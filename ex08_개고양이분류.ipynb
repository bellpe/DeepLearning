{
 "cells": [
  {
   "cell_type": "markdown",
   "id": "60694537",
   "metadata": {},
   "source": [
    "# 문제정의\n",
    "\n",
    "- 실제 개 고양이 이미지를 활용해서 개와 고양이를 분류\n",
    "\n",
    "- 데이터 정리 (훈련데이터와 테스터 폴더로 필요한 이미지 파일을 이동)\n",
    "- ImageDataGenerator를 이용해서 전처리\n",
    "- CNN으로 개고양이 분류 모델을 설계하고 학습\n",
    "\n",
    "- 증강학습 : 이미지데이터 늘리기\n",
    "- 전이학습\n",
    "   - 특성추출\n",
    "   - 미세조정\n",
    "   \n",
    "- 과대적합방지\n",
    "  - Dropout\n",
    "  - BatchNormalization"
   ]
  },
  {
   "cell_type": "markdown",
   "id": "d851a169",
   "metadata": {},
   "source": [
    "## train.zip 파일의 압축을 푼다"
   ]
  },
  {
   "cell_type": "code",
   "execution_count": 29,
   "id": "6cb621ab",
   "metadata": {},
   "outputs": [],
   "source": [
    "import os, os.path, shutil, zipfile"
   ]
  },
  {
   "cell_type": "code",
   "execution_count": 3,
   "id": "fb5b888d",
   "metadata": {},
   "outputs": [],
   "source": [
    "zip_ref = zipfile.ZipFile(\"./data/train.zip\", \"r\")\n",
    "zip_ref.extractall(\"./data/\")\n",
    "zip_ref.close()"
   ]
  },
  {
   "cell_type": "markdown",
   "id": "bc61e0ec",
   "metadata": {},
   "source": [
    "## 훈련데이터 2000개, 테스트데이터 500개씩 샘플링"
   ]
  },
  {
   "cell_type": "code",
   "execution_count": 30,
   "id": "e7e0905d",
   "metadata": {},
   "outputs": [],
   "source": [
    "base_dir = \"./data/cat_dog\"\n",
    "if not os.path.exists(base_dir) :\n",
    "    os.mkdir(base_dir)\n",
    "    \n",
    "train_dir = \"./data/cat_dog/train\"\n",
    "if not os.path.exists(train_dir) :    \n",
    "    os.mkdir(train_dir)  \n",
    "    \n",
    "test_dir = \"./data/cat_dog/test\"\n",
    "if not os.path.exists(test_dir) :    \n",
    "    os.mkdir(test_dir)     \n",
    "    \n",
    "train_dog_dir = \"./data/cat_dog/train/dog\"  \n",
    "if not os.path.exists(train_dog_dir) :    \n",
    "    os.mkdir(train_dog_dir) \n",
    "    \n",
    "train_cat_dir = \"./data/cat_dog/train/cat\"  \n",
    "if not os.path.exists(train_cat_dir) :    \n",
    "    os.mkdir(train_cat_dir)     \n",
    "    \n",
    "test_dog_dir = \"./data/cat_dog/test/dog\"  \n",
    "if not os.path.exists(test_dog_dir) :    \n",
    "    os.mkdir(test_dog_dir) \n",
    "    \n",
    "test_cat_dir = \"./data/cat_dog/test/cat\"  \n",
    "if not os.path.exists(test_cat_dir) :    \n",
    "    os.mkdir(test_cat_dir)      "
   ]
  },
  {
   "cell_type": "code",
   "execution_count": 19,
   "id": "b4bea3a6",
   "metadata": {},
   "outputs": [],
   "source": [
    "train_dir2 = \"./data/train\"\n",
    "\n",
    "# 각 폴더로 이미지들을 복사\n",
    "# 0번부터 1999번의 고양이 이미지를 train/cat 폴더로 이동\n",
    "fnames = [\"cat.{}.jpg\".format(i) for i in range(2000)]\n",
    "for fname in fnames :\n",
    "    src = os.path.join(train_dir2, fname)\n",
    "    dst = os.path.join(train_cat_dir, fname)\n",
    "    shutil.copyfile(src, dst)\n",
    "\n",
    "# 2000번부터 2499번의 고양이 이미지를 test/cat 폴더로 이동\n",
    "fnames = [\"cat.{}.jpg\".format(i) for i in range(2000, 2500)]\n",
    "for fname in fnames :\n",
    "    src = os.path.join(train_dir2, fname)\n",
    "    dst = os.path.join(test_cat_dir, fname)\n",
    "    shutil.copyfile(src, dst)\n",
    "    \n",
    "# 0번부터 1999번의 개 이미지를 train/dog 폴더로 이동\n",
    "fnames = [\"dog.{}.jpg\".format(i) for i in range(2000)]\n",
    "for fname in fnames :\n",
    "    src = os.path.join(train_dir2, fname)\n",
    "    dst = os.path.join(train_dog_dir, fname)\n",
    "    shutil.copyfile(src, dst)\n",
    "    \n",
    "# 2000번부터 2499번의 개 이미지를 test/dog 폴더로 이동\n",
    "fnames = [\"dog.{}.jpg\".format(i) for i in range(2000, 2500)]\n",
    "for fname in fnames :\n",
    "    src = os.path.join(train_dir2, fname)\n",
    "    dst = os.path.join(test_dog_dir, fname)\n",
    "    shutil.copyfile(src, dst)"
   ]
  },
  {
   "cell_type": "code",
   "execution_count": 31,
   "id": "764de29f",
   "metadata": {},
   "outputs": [
    {
     "name": "stdout",
     "output_type": "stream",
     "text": [
      "훈련(개) 이미지수 : 2000\n",
      "훈련(고양이) 이미지수 : 2000\n",
      "테스트(개) 이미지수 : 500\n",
      "테스트(고양이) 이미지수 : 500\n"
     ]
    }
   ],
   "source": [
    "# 각 폴더의 이미지 수 확인\n",
    "print(\"훈련(개) 이미지수 : {}\".format(len(os.listdir(train_dog_dir))))\n",
    "print(\"훈련(고양이) 이미지수 : {}\".format(len(os.listdir(train_cat_dir))))\n",
    "print(\"테스트(개) 이미지수 : {}\".format(len(os.listdir(test_dog_dir))))\n",
    "print(\"테스트(고양이) 이미지수 : {}\".format(len(os.listdir(test_cat_dir))))"
   ]
  },
  {
   "cell_type": "markdown",
   "id": "7a4a0b0e",
   "metadata": {},
   "source": [
    "## 이미지 전처리\n",
    "\n",
    "- 0-255 범위의 픽셀값을 0.0-1.0 범위로 변경\n",
    "- 이미지 크기를 동일하게 변환\n",
    "- 이미지에 라벨을 부여"
   ]
  },
  {
   "cell_type": "code",
   "execution_count": 34,
   "id": "9e46d708",
   "metadata": {},
   "outputs": [
    {
     "name": "stdout",
     "output_type": "stream",
     "text": [
      "Found 4000 images belonging to 2 classes.\n",
      "Found 1000 images belonging to 2 classes.\n"
     ]
    }
   ],
   "source": [
    "# ImageDataGenerator : 반복해서 이미지를 전처리하는 라이브러리\n",
    "from tensorflow.keras.preprocessing.image import ImageDataGenerator\n",
    "\n",
    "# 정규화 설정 (0-255 -> 0.0-1.0변환)\n",
    "train_gen = ImageDataGenerator(rescale=1./255)\n",
    "test_gen = ImageDataGenerator(rescale=1./255)\n",
    "\n",
    "# 학습용 이미지 전처리 설정\n",
    "train_generator = train_gen.flow_from_directory(\n",
    "    # 해당 폴더\n",
    "    train_dir,\n",
    "    # 이미지 크기를 동일하게 변환\n",
    "    target_size = (150, 150),\n",
    "    batch_size = 20,    # 한 번에 처리하는 이미지의 개수\n",
    "    # binary : 0과 1로 라벨링 (디렉토리명의 알파벳순으로)\n",
    "    # categorical : 0부터의 개수만큼 1씩 증가시켜 라벨링 \n",
    "    #               (디렉토리명의 알파벳순으로)\n",
    "    class_mode = \"binary\"\n",
    ")\n",
    "\n",
    "test_generator = test_gen.flow_from_directory(\n",
    "    # 해당 폴더\n",
    "    test_dir,\n",
    "    # 이미지 크기를 동일하게 변환\n",
    "    target_size = (150, 150),\n",
    "    batch_size = 20,    # 한 번에 처리하는 이미지의 개수\n",
    "    # binary : 0과 1로 라벨링 (디렉토리명의 알파벳순으로)\n",
    "    # categorical : 0부터의 개수만큼 1씩 증가시켜 라벨링 \n",
    "    #               (디렉토리명의 알파벳순으로)\n",
    "    class_mode = \"binary\"\n",
    ")"
   ]
  },
  {
   "cell_type": "code",
   "execution_count": 22,
   "id": "ccc7af5a",
   "metadata": {},
   "outputs": [
    {
     "data": {
      "text/plain": [
       "({'cat': 0, 'dog': 1}, {'cat': 0, 'dog': 1})"
      ]
     },
     "execution_count": 22,
     "metadata": {},
     "output_type": "execute_result"
    }
   ],
   "source": [
    "# 라벨링 결과 확인\n",
    "train_generator.class_indices, test_generator.class_indices"
   ]
  },
  {
   "cell_type": "markdown",
   "id": "3556a270",
   "metadata": {},
   "source": [
    "## 신경망 설계 (CNN)"
   ]
  },
  {
   "cell_type": "code",
   "execution_count": 35,
   "id": "db65acb7",
   "metadata": {},
   "outputs": [
    {
     "name": "stdout",
     "output_type": "stream",
     "text": [
      "Model: \"sequential_5\"\n",
      "_________________________________________________________________\n",
      "Layer (type)                 Output Shape              Param #   \n",
      "=================================================================\n",
      "conv2d_14 (Conv2D)           (None, 148, 148, 32)      896       \n",
      "_________________________________________________________________\n",
      "activation_14 (Activation)   (None, 148, 148, 32)      0         \n",
      "_________________________________________________________________\n",
      "max_pooling2d_14 (MaxPooling (None, 74, 74, 32)        0         \n",
      "_________________________________________________________________\n",
      "conv2d_15 (Conv2D)           (None, 72, 72, 64)        18496     \n",
      "_________________________________________________________________\n",
      "activation_15 (Activation)   (None, 72, 72, 64)        0         \n",
      "_________________________________________________________________\n",
      "max_pooling2d_15 (MaxPooling (None, 36, 36, 64)        0         \n",
      "_________________________________________________________________\n",
      "conv2d_16 (Conv2D)           (None, 34, 34, 128)       73856     \n",
      "_________________________________________________________________\n",
      "activation_16 (Activation)   (None, 34, 34, 128)       0         \n",
      "_________________________________________________________________\n",
      "max_pooling2d_16 (MaxPooling (None, 17, 17, 128)       0         \n",
      "_________________________________________________________________\n",
      "conv2d_17 (Conv2D)           (None, 15, 15, 128)       147584    \n",
      "_________________________________________________________________\n",
      "activation_17 (Activation)   (None, 15, 15, 128)       0         \n",
      "_________________________________________________________________\n",
      "max_pooling2d_17 (MaxPooling (None, 7, 7, 128)         0         \n",
      "_________________________________________________________________\n",
      "flatten_5 (Flatten)          (None, 6272)              0         \n",
      "_________________________________________________________________\n",
      "dense_2 (Dense)              (None, 512)               3211776   \n",
      "_________________________________________________________________\n",
      "dense_3 (Dense)              (None, 1)                 513       \n",
      "=================================================================\n",
      "Total params: 3,453,121\n",
      "Trainable params: 3,453,121\n",
      "Non-trainable params: 0\n",
      "_________________________________________________________________\n"
     ]
    }
   ],
   "source": [
    "from tensorflow.keras.models import Sequential\n",
    "from tensorflow.keras.layers import Dense, Flatten, Dropout, Activation\n",
    "from tensorflow.keras.layers import Conv2D, MaxPooling2D, BatchNormalization\n",
    "from tensorflow.keras.callbacks import ModelCheckpoint, EarlyStopping\n",
    "\n",
    "model1 = Sequential()\n",
    "\n",
    "# 특성 추출기 모델\n",
    "#  - 최종 특성의 크기가 10x10 정도 될때까지 CNN (Conv2D+Pooling) 층을 쌓음\n",
    "#  - 각 층의 필터의 크기를 몇 개씩 설계할 것인가 \n",
    "#    - 인코딩 : 필터의 개숫를 늘려가는 방식\n",
    "#    - 디코딩 : 필터의 개수를 줄여가는 방식\n",
    "model1.add(Conv2D(filters=32, kernel_size=(3, 3), \n",
    "                  input_shape=(150, 150, 3)))\n",
    "model1.add(Activation(\"relu\"))\n",
    "model1.add(MaxPooling2D(pool_size=(2,2)))\n",
    "\n",
    "model1.add(Conv2D(filters=64, kernel_size=(3, 3)))\n",
    "model1.add(Activation(\"relu\"))\n",
    "model1.add(MaxPooling2D(pool_size=(2,2)))\n",
    "\n",
    "model1.add(Conv2D(filters=128, kernel_size=(3, 3)))\n",
    "model1.add(Activation(\"relu\"))\n",
    "model1.add(MaxPooling2D(pool_size=(2,2)))\n",
    "\n",
    "model1.add(Conv2D(filters=128, kernel_size=(3, 3)))\n",
    "model1.add(Activation(\"relu\"))\n",
    "model1.add(MaxPooling2D(pool_size=(2,2)))\n",
    "\n",
    "model1.add(Flatten())\n",
    "\n",
    "# 분류기 모델\n",
    "model1.add(Dense(units=512, activation=\"relu\"))\n",
    "# loss = \"binary_crossentropy\"\n",
    "model1.add(Dense(units=1, activation=\"sigmoid\"))  \n",
    "# loss = \"categorical_crossentropy\"\n",
    "#model1.add(Dense(units=2, activation=\"softmax\")) \n",
    "\n",
    "model1.summary()"
   ]
  },
  {
   "cell_type": "code",
   "execution_count": 37,
   "id": "330090c8",
   "metadata": {},
   "outputs": [],
   "source": [
    "model1.compile(loss=\"binary_crossentropy\",\n",
    "               optimizer=\"adam\",\n",
    "               metrics=[\"accuracy\"])"
   ]
  },
  {
   "cell_type": "code",
   "execution_count": 38,
   "id": "ede92f3e",
   "metadata": {},
   "outputs": [
    {
     "name": "stdout",
     "output_type": "stream",
     "text": [
      "Epoch 1/10\n",
      "200/200 [==============================] - 54s 264ms/step - loss: 0.6961 - accuracy: 0.5251 - val_loss: 0.6708 - val_accuracy: 0.6200\n",
      "Epoch 2/10\n",
      "200/200 [==============================] - 45s 226ms/step - loss: 0.6619 - accuracy: 0.5935 - val_loss: 0.6402 - val_accuracy: 0.6380\n",
      "Epoch 3/10\n",
      "200/200 [==============================] - 46s 228ms/step - loss: 0.6289 - accuracy: 0.6529 - val_loss: 0.6272 - val_accuracy: 0.6410\n",
      "Epoch 4/10\n",
      "200/200 [==============================] - 45s 225ms/step - loss: 0.5631 - accuracy: 0.7043 - val_loss: 0.5863 - val_accuracy: 0.6990\n",
      "Epoch 5/10\n",
      "200/200 [==============================] - 46s 230ms/step - loss: 0.5035 - accuracy: 0.7588 - val_loss: 0.5320 - val_accuracy: 0.7550\n",
      "Epoch 6/10\n",
      "200/200 [==============================] - 45s 226ms/step - loss: 0.4380 - accuracy: 0.7953 - val_loss: 0.5518 - val_accuracy: 0.7270\n",
      "Epoch 7/10\n",
      "200/200 [==============================] - 46s 232ms/step - loss: 0.3549 - accuracy: 0.8430 - val_loss: 0.5839 - val_accuracy: 0.7190\n",
      "Epoch 8/10\n",
      "200/200 [==============================] - 45s 224ms/step - loss: 0.2866 - accuracy: 0.8661 - val_loss: 0.6002 - val_accuracy: 0.7460\n",
      "Epoch 9/10\n",
      "200/200 [==============================] - 45s 223ms/step - loss: 0.1826 - accuracy: 0.9295 - val_loss: 0.7903 - val_accuracy: 0.7340\n",
      "Epoch 10/10\n",
      "200/200 [==============================] - 44s 222ms/step - loss: 0.0955 - accuracy: 0.9604 - val_loss: 0.8631 - val_accuracy: 0.7230\n"
     ]
    }
   ],
   "source": [
    "h1 = model1.fit(train_generator, epochs=10,\n",
    "                validation_data=test_generator)"
   ]
  },
  {
   "cell_type": "code",
   "execution_count": 41,
   "id": "a06cf7c5",
   "metadata": {
    "scrolled": false
   },
   "outputs": [
    {
     "data": {
      "image/png": "[encoded data removed]",
      "text/plain": [
       "<Figure size 432x288 with 1 Axes>"
      ]
     },
     "metadata": {
      "needs_background": "light"
     },
     "output_type": "display_data"
    },
    {
     "data": {
      "image/png": "[encoded data removed]",
      "text/plain": [
       "<Figure size 432x288 with 1 Axes>"
      ]
     },
     "metadata": {
      "needs_background": "light"
     },
     "output_type": "display_data"
    }
   ],
   "source": [
    "# 결과 시각화 하기\n",
    "import matplotlib.pyplot as plt\n",
    "\n",
    "acc = h1.history[\"accuracy\"]\n",
    "val_acc = h1.history[\"val_accuracy\"]\n",
    "loss = h1.history[\"loss\"]\n",
    "val_loss = h1.history[\"val_loss\"]\n",
    "\n",
    "e = range(1, len(acc)+1)\n",
    "\n",
    "plt.plot(e, acc, \"r\", label=\"train acc\")\n",
    "plt.plot(e, val_acc, \"b\", label=\"test acc\")\n",
    "plt.show()\n",
    "\n",
    "plt.plot(e, loss, \"r\", label=\"train loss\")\n",
    "plt.plot(e, val_loss, \"b\", label=\"test loss\")\n",
    "plt.show()"
   ]
  },
  {
   "cell_type": "code",
   "execution_count": 43,
   "id": "70af85ff",
   "metadata": {},
   "outputs": [
    {
     "name": "stderr",
     "output_type": "stream",
     "text": [
      "D:\\anaconda3\\envs\\GPU\\lib\\site-packages\\tensorflow\\python\\keras\\engine\\training.py:1905: UserWarning: `Model.predict_generator` is deprecated and will be removed in a future version. Please use `Model.predict`, which supports generators.\n",
      "  warnings.warn('`Model.predict_generator` is deprecated and '\n"
     ]
    },
    {
     "name": "stdout",
     "output_type": "stream",
     "text": [
      "cat\\cat.2000.jpg\n",
      "['고양이']\n",
      "cat\\cat.2001.jpg\n",
      "['개']\n",
      "cat\\cat.2002.jpg\n",
      "['고양이']\n",
      "cat\\cat.2003.jpg\n",
      "['개']\n",
      "cat\\cat.2004.jpg\n",
      "['고양이']\n",
      "cat\\cat.2005.jpg\n",
      "['개']\n",
      "cat\\cat.2006.jpg\n",
      "['개']\n",
      "cat\\cat.2007.jpg\n",
      "['개']\n",
      "cat\\cat.2008.jpg\n",
      "['고양이']\n",
      "cat\\cat.2009.jpg\n",
      "['개']\n"
     ]
    }
   ],
   "source": [
    "# 예측하기\n",
    "import numpy as np\n",
    "\n",
    "pred = model1.predict_generator(test_generator)\n",
    "\n",
    "pred_val = np.where(pred > .5, \"개\", \"고양이\")\n",
    "\n",
    "for i in range(10) :\n",
    "    print(test_generator.filenames[i])\n",
    "    print(pred_val[i])"
   ]
  },
  {
   "cell_type": "markdown",
   "id": "5de9f3b4",
   "metadata": {},
   "source": [
    "## 데이터 확장 (data augmentation, 증식)을 이용한 성능개선\n",
    "\n",
    "- 원본 이미지 데이터에 변형을 주어서 변형된 데이터를 CNN에 입력해주는 방법\n",
    "- 데이터의 수가 증가하는 효과가 있음\n",
    "- 변형 방법 : 회전, 이동, 확대/축소, 뒤집기, 기울림, 밝기조정 등\n",
    "- 증식을 하면 오차가 커지므로 epochs 값을 늘려서 학습을 해주어야 함\n",
    "- 증식은 훈련데이터에만 적용해야 함"
   ]
  },
  {
   "cell_type": "code",
   "execution_count": 45,
   "id": "44948fdb",
   "metadata": {},
   "outputs": [
    {
     "name": "stdout",
     "output_type": "stream",
     "text": [
      "Found 4000 images belonging to 2 classes.\n",
      "Found 1000 images belonging to 2 classes.\n"
     ]
    }
   ],
   "source": [
    "from tensorflow.keras.preprocessing.image import ImageDataGenerator\n",
    "\n",
    "# 증식 설정 (ImageDataGenerator 활용) \n",
    "train_gen = ImageDataGenerator(\n",
    "    rescale=1./255,\n",
    "    rotation_range = 20,   #20도 내로 회전\n",
    "    width_shift_range = 0.2,\n",
    "    height_shift_range = 0.1,\n",
    "    shear_range = 0.1,\n",
    "    zoom_range = 0.1,\n",
    "    horizontal_flip = False,\n",
    "    vertical_flip = False,\n",
    "    fill_mode = \"nearest\"    # 이미지 변형시 깨지는 부분을 보상\n",
    ")\n",
    "\n",
    "test_gen = ImageDataGenerator(rescale=1./255)\n",
    "\n",
    "train_generator = train_gen.flow_from_directory(\n",
    "    train_dir,\n",
    "    target_size = (150, 150),\n",
    "    batch_size = 20,    \n",
    "    class_mode = \"binary\"\n",
    ")\n",
    "\n",
    "test_generator = test_gen.flow_from_directory(\n",
    "    test_dir,\n",
    "    target_size = (150, 150),\n",
    "    batch_size = 20,    \n",
    "    class_mode = \"binary\"\n",
    ")"
   ]
  },
  {
   "cell_type": "code",
   "execution_count": 47,
   "id": "25d1eb68",
   "metadata": {},
   "outputs": [
    {
     "name": "stdout",
     "output_type": "stream",
     "text": [
      "Model: \"sequential_7\"\n",
      "_________________________________________________________________\n",
      "Layer (type)                 Output Shape              Param #   \n",
      "=================================================================\n",
      "conv2d_22 (Conv2D)           (None, 148, 148, 32)      896       \n",
      "_________________________________________________________________\n",
      "activation_22 (Activation)   (None, 148, 148, 32)      0         \n",
      "_________________________________________________________________\n",
      "max_pooling2d_22 (MaxPooling (None, 74, 74, 32)        0         \n",
      "_________________________________________________________________\n",
      "conv2d_23 (Conv2D)           (None, 72, 72, 64)        18496     \n",
      "_________________________________________________________________\n",
      "activation_23 (Activation)   (None, 72, 72, 64)        0         \n",
      "_________________________________________________________________\n",
      "max_pooling2d_23 (MaxPooling (None, 36, 36, 64)        0         \n",
      "_________________________________________________________________\n",
      "conv2d_24 (Conv2D)           (None, 34, 34, 128)       73856     \n",
      "_________________________________________________________________\n",
      "activation_24 (Activation)   (None, 34, 34, 128)       0         \n",
      "_________________________________________________________________\n",
      "max_pooling2d_24 (MaxPooling (None, 17, 17, 128)       0         \n",
      "_________________________________________________________________\n",
      "conv2d_25 (Conv2D)           (None, 15, 15, 128)       147584    \n",
      "_________________________________________________________________\n",
      "activation_25 (Activation)   (None, 15, 15, 128)       0         \n",
      "_________________________________________________________________\n",
      "max_pooling2d_25 (MaxPooling (None, 7, 7, 128)         0         \n",
      "_________________________________________________________________\n",
      "flatten_7 (Flatten)          (None, 6272)              0         \n",
      "_________________________________________________________________\n",
      "dense_6 (Dense)              (None, 512)               3211776   \n",
      "_________________________________________________________________\n",
      "dense_7 (Dense)              (None, 1)                 513       \n",
      "=================================================================\n",
      "Total params: 3,453,121\n",
      "Trainable params: 3,453,121\n",
      "Non-trainable params: 0\n",
      "_________________________________________________________________\n"
     ]
    }
   ],
   "source": [
    "from tensorflow.keras.models import Sequential\n",
    "from tensorflow.keras.layers import Dense, Flatten, Dropout, Activation\n",
    "from tensorflow.keras.layers import Conv2D, MaxPooling2D, BatchNormalization\n",
    "from tensorflow.keras.callbacks import ModelCheckpoint, EarlyStopping\n",
    "\n",
    "model2 = Sequential()\n",
    "\n",
    "# 특성 추출기 모델\n",
    "#  - 최종 특성의 크기가 10x10 정도 될때까지 CNN (Conv2D+Pooling) 층을 쌓음\n",
    "#  - 각 층의 필터의 크기를 몇 개씩 설계할 것인가 \n",
    "#    - 인코딩 : 필터의 개숫를 늘려가는 방식\n",
    "#    - 디코딩 : 필터의 개수를 줄여가는 방식\n",
    "model2.add(Conv2D(filters=32, kernel_size=(3, 3), \n",
    "                  input_shape=(150, 150, 3)))\n",
    "model2.add(Activation(\"relu\"))\n",
    "model2.add(MaxPooling2D(pool_size=(2,2)))\n",
    "\n",
    "model2.add(Conv2D(filters=64, kernel_size=(3, 3)))\n",
    "model2.add(Activation(\"relu\"))\n",
    "model2.add(MaxPooling2D(pool_size=(2,2)))\n",
    "\n",
    "model2.add(Conv2D(filters=128, kernel_size=(3, 3)))\n",
    "model2.add(Activation(\"relu\"))\n",
    "model2.add(MaxPooling2D(pool_size=(2,2)))\n",
    "\n",
    "model2.add(Conv2D(filters=128, kernel_size=(3, 3)))\n",
    "model2.add(Activation(\"relu\"))\n",
    "model2.add(MaxPooling2D(pool_size=(2,2)))\n",
    "\n",
    "model2.add(Flatten())\n",
    "\n",
    "# 분류기 모델\n",
    "model2.add(Dense(units=512, activation=\"relu\"))\n",
    "# loss = \"binary_crossentropy\"\n",
    "model2.add(Dense(units=1, activation=\"sigmoid\"))  \n",
    "# loss = \"categorical_crossentropy\"\n",
    "#model1.add(Dense(units=2, activation=\"softmax\")) \n",
    "\n",
    "model2.summary()"
   ]
  },
  {
   "cell_type": "code",
   "execution_count": 49,
   "id": "46c8e2f5",
   "metadata": {},
   "outputs": [],
   "source": [
    "model2.compile(loss=\"binary_crossentropy\",\n",
    "               optimizer=\"adam\",\n",
    "               metrics=[\"accuracy\"])"
   ]
  },
  {
   "cell_type": "code",
   "execution_count": null,
   "id": "690d064c",
   "metadata": {},
   "outputs": [],
   "source": [
    "h2 = model2.fit(train_generator, epochs=30,\n",
    "                validation_data=test_generator)"
   ]
  },
  {
   "cell_type": "markdown",
   "id": "b53592c7",
   "metadata": {},
   "source": [
    "## 전이학습 (Transfer Learning)을 이용한 성능 개선\n",
    "\n",
    "- 특성추출 : 기존의 모델에 있는 CNN층을 그대로 가져다가 사용\n",
    "  - 가져온 CNN 층에 대해서 오차역전파를 수행하지 않음 (동결)\n",
    "- 미세조정 : 기존의 모델에 있는 CNN층을 그대로 가져다가 사용\n",
    "  - 가져온 CNN 층에 대해서 분류기와 가까운 층들에 대해 오차역전파를 수행함"
   ]
  },
  {
   "cell_type": "code",
   "execution_count": 50,
   "id": "18fc980d",
   "metadata": {},
   "outputs": [
    {
     "name": "stdout",
     "output_type": "stream",
     "text": [
      "Downloading data from https://storage.googleapis.com/tensorflow/keras-applications/vgg16/vgg16_weights_tf_dim_ordering_tf_kernels_notop.h5\n",
      "58892288/58889256 [==============================] - 5s 0us/step\n",
      "Model: \"vgg16\"\n",
      "_________________________________________________________________\n",
      "Layer (type)                 Output Shape              Param #   \n",
      "=================================================================\n",
      "input_1 (InputLayer)         [(None, 150, 150, 3)]     0         \n",
      "_________________________________________________________________\n",
      "block1_conv1 (Conv2D)        (None, 150, 150, 64)      1792      \n",
      "_________________________________________________________________\n",
      "block1_conv2 (Conv2D)        (None, 150, 150, 64)      36928     \n",
      "_________________________________________________________________\n",
      "block1_pool (MaxPooling2D)   (None, 75, 75, 64)        0         \n",
      "_________________________________________________________________\n",
      "block2_conv1 (Conv2D)        (None, 75, 75, 128)       73856     \n",
      "_________________________________________________________________\n",
      "block2_conv2 (Conv2D)        (None, 75, 75, 128)       147584    \n",
      "_________________________________________________________________\n",
      "block2_pool (MaxPooling2D)   (None, 37, 37, 128)       0         \n",
      "_________________________________________________________________\n",
      "block3_conv1 (Conv2D)        (None, 37, 37, 256)       295168    \n",
      "_________________________________________________________________\n",
      "block3_conv2 (Conv2D)        (None, 37, 37, 256)       590080    \n",
      "_________________________________________________________________\n",
      "block3_conv3 (Conv2D)        (None, 37, 37, 256)       590080    \n",
      "_________________________________________________________________\n",
      "block3_pool (MaxPooling2D)   (None, 18, 18, 256)       0         \n",
      "_________________________________________________________________\n",
      "block4_conv1 (Conv2D)        (None, 18, 18, 512)       1180160   \n",
      "_________________________________________________________________\n",
      "block4_conv2 (Conv2D)        (None, 18, 18, 512)       2359808   \n",
      "_________________________________________________________________\n",
      "block4_conv3 (Conv2D)        (None, 18, 18, 512)       2359808   \n",
      "_________________________________________________________________\n",
      "block4_pool (MaxPooling2D)   (None, 9, 9, 512)         0         \n",
      "_________________________________________________________________\n",
      "block5_conv1 (Conv2D)        (None, 9, 9, 512)         2359808   \n",
      "_________________________________________________________________\n",
      "block5_conv2 (Conv2D)        (None, 9, 9, 512)         2359808   \n",
      "_________________________________________________________________\n",
      "block5_conv3 (Conv2D)        (None, 9, 9, 512)         2359808   \n",
      "_________________________________________________________________\n",
      "block5_pool (MaxPooling2D)   (None, 4, 4, 512)         0         \n",
      "=================================================================\n",
      "Total params: 14,714,688\n",
      "Trainable params: 14,714,688\n",
      "Non-trainable params: 0\n",
      "_________________________________________________________________\n"
     ]
    }
   ],
   "source": [
    "# VGG16 모델을 가져온다\n",
    "from tensorflow.keras.applications import VGG16\n",
    "\n",
    "# weights : 어떤 가중치를 가져올 것인지 설정\n",
    "# include_top : 분류기도 가져올 것인지 설정\n",
    "# input_shape : 우리 모델에서 사용할 입력 이미지 크기\n",
    "conv_base = VGG16(weights=\"imagenet\",\n",
    "                  include_top=False,\n",
    "                  input_shape=(150, 150, 3))\n",
    "conv_base.summary()"
   ]
  },
  {
   "cell_type": "code",
   "execution_count": 52,
   "id": "9413e743",
   "metadata": {
    "scrolled": true
   },
   "outputs": [
    {
     "name": "stdout",
     "output_type": "stream",
     "text": [
      "Model: \"sequential_9\"\n",
      "_________________________________________________________________\n",
      "Layer (type)                 Output Shape              Param #   \n",
      "=================================================================\n",
      "vgg16 (Functional)           (None, 4, 4, 512)         14714688  \n",
      "_________________________________________________________________\n",
      "flatten_8 (Flatten)          (None, 8192)              0         \n",
      "_________________________________________________________________\n",
      "dense_8 (Dense)              (None, 512)               4194816   \n",
      "_________________________________________________________________\n",
      "dense_9 (Dense)              (None, 1)                 513       \n",
      "=================================================================\n",
      "Total params: 18,910,017\n",
      "Trainable params: 18,910,017\n",
      "Non-trainable params: 0\n",
      "_________________________________________________________________\n"
     ]
    }
   ],
   "source": [
    "from tensorflow.keras.models import Sequential\n",
    "from tensorflow.keras.layers import Dense, Flatten, Dropout, Activation\n",
    "from tensorflow.keras.layers import Conv2D, MaxPooling2D, BatchNormalization\n",
    "from tensorflow.keras.callbacks import ModelCheckpoint, EarlyStopping\n",
    "\n",
    "model3 = Sequential()\n",
    "\n",
    "# VGG16 모델을 우리 모델에 연결\n",
    "model3.add(conv_base)\n",
    "\n",
    "model3.add(Flatten())\n",
    "\n",
    "# 분류기 모델\n",
    "model3.add(Dense(units=512, activation=\"relu\"))\n",
    "model3.add(Dense(units=1, activation=\"sigmoid\"))  \n",
    "\n",
    "model3.summary()"
   ]
  },
  {
   "cell_type": "markdown",
   "id": "6953be57",
   "metadata": {},
   "source": [
    "- 동결 : 가져온 모델로는 오차역전파가 되지 않도록 막는 것"
   ]
  },
  {
   "cell_type": "code",
   "execution_count": 53,
   "id": "9d74fb26",
   "metadata": {},
   "outputs": [
    {
     "name": "stdout",
     "output_type": "stream",
     "text": [
      "학습가능한 층의 수 :  30\n"
     ]
    }
   ],
   "source": [
    "# 학습이 되는 층을 확인\n",
    "# 학습가능한 VGG16모델의 파라미터\n",
    "#      - Conv2 층이 13개이므로 각 w(필터), b가 있어 26개\n",
    "# 학습가능한 우리 모델의 파라미터 : Dense가 2개에 w, b가 있어 총 4개\n",
    "print(\"학습가능한 파라미터 수 : \", len(model3.trainable_weights))"
   ]
  },
  {
   "cell_type": "code",
   "execution_count": 54,
   "id": "2bbdeb64",
   "metadata": {},
   "outputs": [],
   "source": [
    "# 동결작업 : VGG16의 파라미터는 학습이 되지 않도록 막음\n",
    "conv_base.trainable = False"
   ]
  },
  {
   "cell_type": "code",
   "execution_count": 55,
   "id": "4f97a3f3",
   "metadata": {},
   "outputs": [
    {
     "name": "stdout",
     "output_type": "stream",
     "text": [
      "학습가능한 파라미터 수 :  4\n"
     ]
    }
   ],
   "source": [
    "print(\"학습가능한 파라미터 수 : \", len(model3.trainable_weights))"
   ]
  },
  {
   "cell_type": "code",
   "execution_count": 56,
   "id": "d645d9c7",
   "metadata": {},
   "outputs": [
    {
     "name": "stdout",
     "output_type": "stream",
     "text": [
      "Epoch 1/10\n",
      "200/200 [==============================] - 119s 594ms/step - loss: 0.5856 - accuracy: 0.7618 - val_loss: 0.2500 - val_accuracy: 0.8980\n",
      "Epoch 2/10\n",
      "200/200 [==============================] - 121s 606ms/step - loss: 0.2921 - accuracy: 0.8689 - val_loss: 0.2789 - val_accuracy: 0.8770\n",
      "Epoch 3/10\n",
      "200/200 [==============================] - 123s 615ms/step - loss: 0.2761 - accuracy: 0.8747 - val_loss: 0.2472 - val_accuracy: 0.8890\n",
      "Epoch 4/10\n",
      "200/200 [==============================] - 123s 617ms/step - loss: 0.2355 - accuracy: 0.9029 - val_loss: 0.2379 - val_accuracy: 0.8950\n",
      "Epoch 5/10\n",
      "200/200 [==============================] - 124s 618ms/step - loss: 0.2368 - accuracy: 0.9054 - val_loss: 0.2658 - val_accuracy: 0.8780\n",
      "Epoch 6/10\n",
      "200/200 [==============================] - 125s 626ms/step - loss: 0.2207 - accuracy: 0.9072 - val_loss: 0.2956 - val_accuracy: 0.8780\n",
      "Epoch 7/10\n",
      "200/200 [==============================] - 121s 605ms/step - loss: 0.2198 - accuracy: 0.9079 - val_loss: 0.2428 - val_accuracy: 0.8960\n",
      "Epoch 8/10\n",
      "200/200 [==============================] - 119s 598ms/step - loss: 0.2324 - accuracy: 0.9040 - val_loss: 0.2355 - val_accuracy: 0.9040\n",
      "Epoch 9/10\n",
      "200/200 [==============================] - 120s 600ms/step - loss: 0.1968 - accuracy: 0.9191 - val_loss: 0.2938 - val_accuracy: 0.8890\n",
      "Epoch 10/10\n",
      "200/200 [==============================] - 119s 596ms/step - loss: 0.1951 - accuracy: 0.9211 - val_loss: 0.2541 - val_accuracy: 0.8920\n"
     ]
    }
   ],
   "source": [
    "model3.compile(loss=\"binary_crossentropy\",\n",
    "               optimizer=\"adam\",\n",
    "               metrics=[\"accuracy\"])\n",
    "\n",
    "h3 = model3.fit(train_generator, epochs=10,\n",
    "                validation_data=test_generator)"
   ]
  },
  {
   "cell_type": "markdown",
   "id": "dbd31492",
   "metadata": {},
   "source": [
    "### 전이학습 : 미세조정\n",
    "\n",
    "- 분류기에서 가까운 층의 동결을 풀어주어서 학습이 되도록 조정\n",
    "- 미세조정을 하면 우리모델과 가져온 모델 간의 매칭도가 향상"
   ]
  },
  {
   "cell_type": "code",
   "execution_count": 61,
   "id": "0fde69b4",
   "metadata": {},
   "outputs": [
    {
     "name": "stdout",
     "output_type": "stream",
     "text": [
      "Model: \"sequential_10\"\n",
      "_________________________________________________________________\n",
      "Layer (type)                 Output Shape              Param #   \n",
      "=================================================================\n",
      "vgg16 (Functional)           (None, 4, 4, 512)         14714688  \n",
      "_________________________________________________________________\n",
      "flatten_9 (Flatten)          (None, 8192)              0         \n",
      "_________________________________________________________________\n",
      "dense_10 (Dense)             (None, 512)               4194816   \n",
      "_________________________________________________________________\n",
      "dense_11 (Dense)             (None, 1)                 513       \n",
      "=================================================================\n",
      "Total params: 18,910,017\n",
      "Trainable params: 11,274,753\n",
      "Non-trainable params: 7,635,264\n",
      "_________________________________________________________________\n"
     ]
    }
   ],
   "source": [
    "from tensorflow.keras.models import Sequential\n",
    "from tensorflow.keras.layers import Dense, Flatten, Dropout, Activation\n",
    "from tensorflow.keras.layers import Conv2D, MaxPooling2D, BatchNormalization\n",
    "from tensorflow.keras.callbacks import ModelCheckpoint, EarlyStopping\n",
    "\n",
    "model4 = Sequential()\n",
    "\n",
    "# VGG16 모델을 우리 모델에 연결\n",
    "model4.add(conv_base)\n",
    "\n",
    "model4.add(Flatten())\n",
    "\n",
    "# 분류기 모델\n",
    "model4.add(Dense(units=512, activation=\"relu\"))\n",
    "model4.add(Dense(units=1, activation=\"sigmoid\"))  \n",
    "\n",
    "model4.summary()"
   ]
  },
  {
   "cell_type": "code",
   "execution_count": 62,
   "id": "3f06ebdf",
   "metadata": {},
   "outputs": [],
   "source": [
    "# VGG16의 전체 층의 동결을 푼다\n",
    "conv_base.trainable = True"
   ]
  },
  {
   "cell_type": "code",
   "execution_count": 66,
   "id": "a20824d4",
   "metadata": {},
   "outputs": [],
   "source": [
    "# VGG16의 5층만 동결 (분류기에서 가장 가까운 층)\n",
    "set_trainable = False  # 동결 여부\n",
    "\n",
    "for layer in conv_base.layers :\n",
    "    if layer.name == \"block5_conv3\" :\n",
    "        set_trainable = True\n",
    "    \n",
    "    if set_trainable :\n",
    "        layer.trainable = True    # 5층의 동결을 푼다\n",
    "    else :\n",
    "        layer.trainable = False   # 1-4층은 동결        "
   ]
  },
  {
   "cell_type": "code",
   "execution_count": 67,
   "id": "f2527772",
   "metadata": {},
   "outputs": [
    {
     "name": "stdout",
     "output_type": "stream",
     "text": [
      "학습가능한 파라미터 수 :  6\n"
     ]
    }
   ],
   "source": [
    "print(\"학습가능한 파라미터 수 : \", len(model4.trainable_weights))"
   ]
  },
  {
   "cell_type": "code",
   "execution_count": 65,
   "id": "fb6a2ca4",
   "metadata": {},
   "outputs": [
    {
     "name": "stdout",
     "output_type": "stream",
     "text": [
      "Epoch 1/10\n",
      "200/200 [==============================] - 149s 740ms/step - loss: 0.8117 - accuracy: 0.4932 - val_loss: 0.6932 - val_accuracy: 0.4980\n",
      "Epoch 2/10\n",
      "200/200 [==============================] - 153s 766ms/step - loss: 0.7502 - accuracy: 0.5030 - val_loss: 0.6932 - val_accuracy: 0.5000\n",
      "Epoch 3/10\n",
      " 74/200 [==========>...................] - ETA: 1:27 - loss: 0.6931 - accuracy: 0.5127"
     ]
    },
    {
     "ename": "KeyboardInterrupt",
     "evalue": "",
     "output_type": "error",
     "traceback": [
      "\u001b[1;31m---------------------------------------------------------------------------\u001b[0m",
      "\u001b[1;31mKeyboardInterrupt\u001b[0m                         Traceback (most recent call last)",
      "\u001b[1;32m<ipython-input-65-bf6f39caccd4>\u001b[0m in \u001b[0;36m<module>\u001b[1;34m\u001b[0m\n\u001b[0;32m      4\u001b[0m \u001b[1;33m\u001b[0m\u001b[0m\n\u001b[0;32m      5\u001b[0m h4 = model4.fit(train_generator, epochs=10,\n\u001b[1;32m----> 6\u001b[1;33m                 validation_data=test_generator)\n\u001b[0m",
      "\u001b[1;32mD:\\anaconda3\\envs\\GPU\\lib\\site-packages\\tensorflow\\python\\keras\\engine\\training.py\u001b[0m in \u001b[0;36mfit\u001b[1;34m(self, x, y, batch_size, epochs, verbose, callbacks, validation_split, validation_data, shuffle, class_weight, sample_weight, initial_epoch, steps_per_epoch, validation_steps, validation_batch_size, validation_freq, max_queue_size, workers, use_multiprocessing)\u001b[0m\n\u001b[0;32m   1098\u001b[0m                 _r=1):\n\u001b[0;32m   1099\u001b[0m               \u001b[0mcallbacks\u001b[0m\u001b[1;33m.\u001b[0m\u001b[0mon_train_batch_begin\u001b[0m\u001b[1;33m(\u001b[0m\u001b[0mstep\u001b[0m\u001b[1;33m)\u001b[0m\u001b[1;33m\u001b[0m\u001b[1;33m\u001b[0m\u001b[0m\n\u001b[1;32m-> 1100\u001b[1;33m               \u001b[0mtmp_logs\u001b[0m \u001b[1;33m=\u001b[0m \u001b[0mself\u001b[0m\u001b[1;33m.\u001b[0m\u001b[0mtrain_function\u001b[0m\u001b[1;33m(\u001b[0m\u001b[0miterator\u001b[0m\u001b[1;33m)\u001b[0m\u001b[1;33m\u001b[0m\u001b[1;33m\u001b[0m\u001b[0m\n\u001b[0m\u001b[0;32m   1101\u001b[0m               \u001b[1;32mif\u001b[0m \u001b[0mdata_handler\u001b[0m\u001b[1;33m.\u001b[0m\u001b[0mshould_sync\u001b[0m\u001b[1;33m:\u001b[0m\u001b[1;33m\u001b[0m\u001b[1;33m\u001b[0m\u001b[0m\n\u001b[0;32m   1102\u001b[0m                 \u001b[0mcontext\u001b[0m\u001b[1;33m.\u001b[0m\u001b[0masync_wait\u001b[0m\u001b[1;33m(\u001b[0m\u001b[1;33m)\u001b[0m\u001b[1;33m\u001b[0m\u001b[1;33m\u001b[0m\u001b[0m\n",
      "\u001b[1;32mD:\\anaconda3\\envs\\GPU\\lib\\site-packages\\tensorflow\\python\\eager\\def_function.py\u001b[0m in \u001b[0;36m__call__\u001b[1;34m(self, *args, **kwds)\u001b[0m\n\u001b[0;32m    826\u001b[0m     \u001b[0mtracing_count\u001b[0m \u001b[1;33m=\u001b[0m \u001b[0mself\u001b[0m\u001b[1;33m.\u001b[0m\u001b[0mexperimental_get_tracing_count\u001b[0m\u001b[1;33m(\u001b[0m\u001b[1;33m)\u001b[0m\u001b[1;33m\u001b[0m\u001b[1;33m\u001b[0m\u001b[0m\n\u001b[0;32m    827\u001b[0m     \u001b[1;32mwith\u001b[0m \u001b[0mtrace\u001b[0m\u001b[1;33m.\u001b[0m\u001b[0mTrace\u001b[0m\u001b[1;33m(\u001b[0m\u001b[0mself\u001b[0m\u001b[1;33m.\u001b[0m\u001b[0m_name\u001b[0m\u001b[1;33m)\u001b[0m \u001b[1;32mas\u001b[0m \u001b[0mtm\u001b[0m\u001b[1;33m:\u001b[0m\u001b[1;33m\u001b[0m\u001b[1;33m\u001b[0m\u001b[0m\n\u001b[1;32m--> 828\u001b[1;33m       \u001b[0mresult\u001b[0m \u001b[1;33m=\u001b[0m \u001b[0mself\u001b[0m\u001b[1;33m.\u001b[0m\u001b[0m_call\u001b[0m\u001b[1;33m(\u001b[0m\u001b[1;33m*\u001b[0m\u001b[0margs\u001b[0m\u001b[1;33m,\u001b[0m \u001b[1;33m**\u001b[0m\u001b[0mkwds\u001b[0m\u001b[1;33m)\u001b[0m\u001b[1;33m\u001b[0m\u001b[1;33m\u001b[0m\u001b[0m\n\u001b[0m\u001b[0;32m    829\u001b[0m       \u001b[0mcompiler\u001b[0m \u001b[1;33m=\u001b[0m \u001b[1;34m\"xla\"\u001b[0m \u001b[1;32mif\u001b[0m \u001b[0mself\u001b[0m\u001b[1;33m.\u001b[0m\u001b[0m_experimental_compile\u001b[0m \u001b[1;32melse\u001b[0m \u001b[1;34m\"nonXla\"\u001b[0m\u001b[1;33m\u001b[0m\u001b[1;33m\u001b[0m\u001b[0m\n\u001b[0;32m    830\u001b[0m       \u001b[0mnew_tracing_count\u001b[0m \u001b[1;33m=\u001b[0m \u001b[0mself\u001b[0m\u001b[1;33m.\u001b[0m\u001b[0mexperimental_get_tracing_count\u001b[0m\u001b[1;33m(\u001b[0m\u001b[1;33m)\u001b[0m\u001b[1;33m\u001b[0m\u001b[1;33m\u001b[0m\u001b[0m\n",
      "\u001b[1;32mD:\\anaconda3\\envs\\GPU\\lib\\site-packages\\tensorflow\\python\\eager\\def_function.py\u001b[0m in \u001b[0;36m_call\u001b[1;34m(self, *args, **kwds)\u001b[0m\n\u001b[0;32m    853\u001b[0m       \u001b[1;31m# In this case we have created variables on the first call, so we run the\u001b[0m\u001b[1;33m\u001b[0m\u001b[1;33m\u001b[0m\u001b[1;33m\u001b[0m\u001b[0m\n\u001b[0;32m    854\u001b[0m       \u001b[1;31m# defunned version which is guaranteed to never create variables.\u001b[0m\u001b[1;33m\u001b[0m\u001b[1;33m\u001b[0m\u001b[1;33m\u001b[0m\u001b[0m\n\u001b[1;32m--> 855\u001b[1;33m       \u001b[1;32mreturn\u001b[0m \u001b[0mself\u001b[0m\u001b[1;33m.\u001b[0m\u001b[0m_stateless_fn\u001b[0m\u001b[1;33m(\u001b[0m\u001b[1;33m*\u001b[0m\u001b[0margs\u001b[0m\u001b[1;33m,\u001b[0m \u001b[1;33m**\u001b[0m\u001b[0mkwds\u001b[0m\u001b[1;33m)\u001b[0m  \u001b[1;31m# pylint: disable=not-callable\u001b[0m\u001b[1;33m\u001b[0m\u001b[1;33m\u001b[0m\u001b[0m\n\u001b[0m\u001b[0;32m    856\u001b[0m     \u001b[1;32melif\u001b[0m \u001b[0mself\u001b[0m\u001b[1;33m.\u001b[0m\u001b[0m_stateful_fn\u001b[0m \u001b[1;32mis\u001b[0m \u001b[1;32mnot\u001b[0m \u001b[1;32mNone\u001b[0m\u001b[1;33m:\u001b[0m\u001b[1;33m\u001b[0m\u001b[1;33m\u001b[0m\u001b[0m\n\u001b[0;32m    857\u001b[0m       \u001b[1;31m# Release the lock early so that multiple threads can perform the call\u001b[0m\u001b[1;33m\u001b[0m\u001b[1;33m\u001b[0m\u001b[1;33m\u001b[0m\u001b[0m\n",
      "\u001b[1;32mD:\\anaconda3\\envs\\GPU\\lib\\site-packages\\tensorflow\\python\\eager\\function.py\u001b[0m in \u001b[0;36m__call__\u001b[1;34m(self, *args, **kwargs)\u001b[0m\n\u001b[0;32m   2941\u001b[0m        filtered_flat_args) = self._maybe_define_function(args, kwargs)\n\u001b[0;32m   2942\u001b[0m     return graph_function._call_flat(\n\u001b[1;32m-> 2943\u001b[1;33m         filtered_flat_args, captured_inputs=graph_function.captured_inputs)  # pylint: disable=protected-access\n\u001b[0m\u001b[0;32m   2944\u001b[0m \u001b[1;33m\u001b[0m\u001b[0m\n\u001b[0;32m   2945\u001b[0m   \u001b[1;33m@\u001b[0m\u001b[0mproperty\u001b[0m\u001b[1;33m\u001b[0m\u001b[1;33m\u001b[0m\u001b[0m\n",
      "\u001b[1;32mD:\\anaconda3\\envs\\GPU\\lib\\site-packages\\tensorflow\\python\\eager\\function.py\u001b[0m in \u001b[0;36m_call_flat\u001b[1;34m(self, args, captured_inputs, cancellation_manager)\u001b[0m\n\u001b[0;32m   1917\u001b[0m       \u001b[1;31m# No tape is watching; skip to running the function.\u001b[0m\u001b[1;33m\u001b[0m\u001b[1;33m\u001b[0m\u001b[1;33m\u001b[0m\u001b[0m\n\u001b[0;32m   1918\u001b[0m       return self._build_call_outputs(self._inference_function.call(\n\u001b[1;32m-> 1919\u001b[1;33m           ctx, args, cancellation_manager=cancellation_manager))\n\u001b[0m\u001b[0;32m   1920\u001b[0m     forward_backward = self._select_forward_and_backward_functions(\n\u001b[0;32m   1921\u001b[0m         \u001b[0margs\u001b[0m\u001b[1;33m,\u001b[0m\u001b[1;33m\u001b[0m\u001b[1;33m\u001b[0m\u001b[0m\n",
      "\u001b[1;32mD:\\anaconda3\\envs\\GPU\\lib\\site-packages\\tensorflow\\python\\eager\\function.py\u001b[0m in \u001b[0;36mcall\u001b[1;34m(self, ctx, args, cancellation_manager)\u001b[0m\n\u001b[0;32m    558\u001b[0m               \u001b[0minputs\u001b[0m\u001b[1;33m=\u001b[0m\u001b[0margs\u001b[0m\u001b[1;33m,\u001b[0m\u001b[1;33m\u001b[0m\u001b[1;33m\u001b[0m\u001b[0m\n\u001b[0;32m    559\u001b[0m               \u001b[0mattrs\u001b[0m\u001b[1;33m=\u001b[0m\u001b[0mattrs\u001b[0m\u001b[1;33m,\u001b[0m\u001b[1;33m\u001b[0m\u001b[1;33m\u001b[0m\u001b[0m\n\u001b[1;32m--> 560\u001b[1;33m               ctx=ctx)\n\u001b[0m\u001b[0;32m    561\u001b[0m         \u001b[1;32melse\u001b[0m\u001b[1;33m:\u001b[0m\u001b[1;33m\u001b[0m\u001b[1;33m\u001b[0m\u001b[0m\n\u001b[0;32m    562\u001b[0m           outputs = execute.execute_with_cancellation(\n",
      "\u001b[1;32mD:\\anaconda3\\envs\\GPU\\lib\\site-packages\\tensorflow\\python\\eager\\execute.py\u001b[0m in \u001b[0;36mquick_execute\u001b[1;34m(op_name, num_outputs, inputs, attrs, ctx, name)\u001b[0m\n\u001b[0;32m     58\u001b[0m     \u001b[0mctx\u001b[0m\u001b[1;33m.\u001b[0m\u001b[0mensure_initialized\u001b[0m\u001b[1;33m(\u001b[0m\u001b[1;33m)\u001b[0m\u001b[1;33m\u001b[0m\u001b[1;33m\u001b[0m\u001b[0m\n\u001b[0;32m     59\u001b[0m     tensors = pywrap_tfe.TFE_Py_Execute(ctx._handle, device_name, op_name,\n\u001b[1;32m---> 60\u001b[1;33m                                         inputs, attrs, num_outputs)\n\u001b[0m\u001b[0;32m     61\u001b[0m   \u001b[1;32mexcept\u001b[0m \u001b[0mcore\u001b[0m\u001b[1;33m.\u001b[0m\u001b[0m_NotOkStatusException\u001b[0m \u001b[1;32mas\u001b[0m \u001b[0me\u001b[0m\u001b[1;33m:\u001b[0m\u001b[1;33m\u001b[0m\u001b[1;33m\u001b[0m\u001b[0m\n\u001b[0;32m     62\u001b[0m     \u001b[1;32mif\u001b[0m \u001b[0mname\u001b[0m \u001b[1;32mis\u001b[0m \u001b[1;32mnot\u001b[0m \u001b[1;32mNone\u001b[0m\u001b[1;33m:\u001b[0m\u001b[1;33m\u001b[0m\u001b[1;33m\u001b[0m\u001b[0m\n",
      "\u001b[1;31mKeyboardInterrupt\u001b[0m: "
     ]
    }
   ],
   "source": [
    "model4.compile(loss=\"binary_crossentropy\",\n",
    "               optimizer=\"adam\",\n",
    "               metrics=[\"accuracy\"])\n",
    "\n",
    "h4 = model4.fit(train_generator, epochs=10,\n",
    "                validation_data=test_generator)"
   ]
  },
  {
   "cell_type": "code",
   "execution_count": null,
   "id": "fefe9f0d",
   "metadata": {},
   "outputs": [],
   "source": []
  },
  {
   "cell_type": "code",
   "execution_count": null,
   "id": "7eb68b20",
   "metadata": {},
   "outputs": [],
   "source": []
  },
  {
   "cell_type": "code",
   "execution_count": null,
   "id": "ac72e46f",
   "metadata": {},
   "outputs": [],
   "source": []
  },
  {
   "cell_type": "code",
   "execution_count": null,
   "id": "9378b3ef",
   "metadata": {},
   "outputs": [],
   "source": []
  },
  {
   "cell_type": "code",
   "execution_count": null,
   "id": "a8bc8e7a",
   "metadata": {},
   "outputs": [],
   "source": []
  },
  {
   "cell_type": "code",
   "execution_count": null,
   "id": "6e8415a3",
   "metadata": {},
   "outputs": [],
   "source": []
  },
  {
   "cell_type": "code",
   "execution_count": null,
   "id": "a30ccc02",
   "metadata": {},
   "outputs": [],
   "source": []
  }
 ],
 "metadata": {
  "hide_input": false,
  "kernelspec": {
   "display_name": "Python 3.10.5 64-bit",
   "language": "python",
   "name": "python3"
  },
  "language_info": {
   "codemirror_mode": {
    "name": "ipython",
    "version": 3
   },
   "file_extension": ".py",
   "mimetype": "text/x-python",
   "name": "python",
   "nbconvert_exporter": "python",
   "pygments_lexer": "ipython3",
   "version": "3.10.5"
  },
  "toc": {
   "base_numbering": 1,
   "nav_menu": {},
   "number_sections": true,
   "sideBar": true,
   "skip_h1_title": false,
   "title_cell": "Table of Contents",
   "title_sidebar": "Contents",
   "toc_cell": false,
   "toc_position": {},
   "toc_section_display": true,
   "toc_window_display": false
  },
  "vscode": {
   "interpreter": {
    "hash": "369f2c481f4da34e4445cda3fffd2e751bd1c4d706f27375911949ba6bb62e1c"
   }
  }
 },
 "nbformat": 4,
 "nbformat_minor": 5
}

{
 "cells": [
  {
   "cell_type": "code",
   "execution_count": 3,
   "id": "4da99d44",
   "metadata": {},
   "outputs": [],
   "source": [
    "#데이터 abs불러오기\n",
    "from tensorflow.keras.datasets import fashion_mnist"
   ]
  },
  {
   "cell_type": "code",
   "execution_count": 5,
   "id": "8a08216a",
   "metadata": {},
   "outputs": [],
   "source": [
    "(X_train, y_train), (X_test, y_test)= fashion_mnist.load_data()"
   ]
  },
  {
   "cell_type": "code",
   "execution_count": null,
   "id": "52929f78",
   "metadata": {},
   "outputs": [],
   "source": []
  },
  {
   "cell_type": "code",
   "execution_count": null,
   "id": "14f4435d",
   "metadata": {},
   "outputs": [],
   "source": []
  },
  {
   "cell_type": "code",
   "execution_count": null,
   "id": "9d85dcf4",
   "metadata": {},
   "outputs": [],
   "source": []
  },
  {
   "cell_type": "code",
   "execution_count": null,
   "id": "55d06d00",
   "metadata": {},
   "outputs": [],
   "source": []
  },
  {
   "cell_type": "code",
   "execution_count": null,
   "id": "ae993e2f",
   "metadata": {},
   "outputs": [],
   "source": []
  },
  {
   "cell_type": "code",
   "execution_count": null,
   "id": "d74fe530",
   "metadata": {},
   "outputs": [],
   "source": []
  },
  {
   "cell_type": "code",
   "execution_count": null,
   "id": "fd914214",
   "metadata": {},
   "outputs": [],
   "source": [
    "# 1. 모델 구조 설계\n",
    "mnist_model = Sequential()\n",
    "\n",
    "mnist_model.add(InputLayer(input_shape=(28,28)))\n",
    "mnist_model.add(Flatten()) # 들어온 데이터를 1차원으로 평평하게 만들어주는 층\n",
    "mnist_model.add(Dense(units=32, activation='sigmoid'))\n",
    "mnist_model.add(Dense(units=64, activation='sigmoid'))\n",
    "mnist_model.add(Dense(units=64, activation='sigmoid'))\n",
    "mnist_model.add(Dense(units=32, activation='sigmoid'))\n",
    "mnist_model.add(Dense(units=10, activation='softmax')) #출력층\n",
    "# 다중분류의 출력층의 units=클래스의 수"
   ]
  },
  {
   "cell_type": "code",
   "execution_count": null,
   "id": "56a732af",
   "metadata": {},
   "outputs": [],
   "source": [
    "# 2. 모델 학습/평가 방법 설정\n",
    "mnist_model.compile(loss='categorical_crossentropy',\n",
    "                   optimizer='Adam',\n",
    "                   metrics='accuracy')"
   ]
  },
  {
   "cell_type": "code",
   "execution_count": null,
   "id": "de52110d",
   "metadata": {},
   "outputs": [],
   "source": []
  },
  {
   "cell_type": "code",
   "execution_count": null,
   "id": "171bba3f",
   "metadata": {},
   "outputs": [],
   "source": []
  },
  {
   "cell_type": "code",
   "execution_count": null,
   "id": "4d805480",
   "metadata": {},
   "outputs": [],
   "source": []
  },
  {
   "cell_type": "code",
   "execution_count": null,
   "id": "be3063a3",
   "metadata": {},
   "outputs": [],
   "source": []
  },
  {
   "cell_type": "code",
   "execution_count": null,
   "id": "04a1c35a",
   "metadata": {},
   "outputs": [],
   "source": []
  }
 ],
 "metadata": {
  "kernelspec": {
   "display_name": "Python 3 (ipykernel)",
   "language": "python",
   "name": "python3"
  },
  "language_info": {
   "codemirror_mode": {
    "name": "ipython",
    "version": 3
   },
   "file_extension": ".py",
   "mimetype": "text/x-python",
   "name": "python",
   "nbconvert_exporter": "python",
   "pygments_lexer": "ipython3",
   "version": "3.7.1"
  }
 },
 "nbformat": 4,
 "nbformat_minor": 5
}

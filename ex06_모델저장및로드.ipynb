{
 "cells": [
  {
   "cell_type": "code",
   "execution_count": 110,
   "id": "15d999e7",
   "metadata": {},
   "outputs": [],
   "source": [
    "import tensorflow as tf"
   ]
  },
  {
   "cell_type": "markdown",
   "id": "7cc8cc8f",
   "metadata": {},
   "source": [
    "##### 데이터 로딩"
   ]
  },
  {
   "cell_type": "code",
   "execution_count": 111,
   "id": "be866873",
   "metadata": {},
   "outputs": [],
   "source": [
    "from tensorflow.keras.datasets import mnist\n",
    "# 손글씨 데이터"
   ]
  },
  {
   "cell_type": "code",
   "execution_count": 112,
   "id": "85eea982",
   "metadata": {},
   "outputs": [],
   "source": [
    "data = mnist.load_data()  # 데이터불러와서 변수에넣기"
   ]
  },
  {
   "cell_type": "code",
   "execution_count": 113,
   "id": "d2de139b",
   "metadata": {},
   "outputs": [
    {
     "data": {
      "text/plain": [
       "2"
      ]
     },
     "execution_count": 113,
     "metadata": {},
     "output_type": "execute_result"
    }
   ],
   "source": [
    "len(data)"
   ]
  },
  {
   "cell_type": "code",
   "execution_count": 114,
   "id": "1e866a41",
   "metadata": {},
   "outputs": [
    {
     "name": "stdout",
     "output_type": "stream",
     "text": [
      "2\n",
      "2\n"
     ]
    }
   ],
   "source": [
    "print(len(data[0]))  # 이중리스트 [[X,y],[X,y]]\n",
    "print(len(data[1]))"
   ]
  },
  {
   "cell_type": "code",
   "execution_count": 115,
   "id": "3520e955",
   "metadata": {},
   "outputs": [],
   "source": [
    "# 훈련, 테스트\n",
    "train = data[0]\n",
    "test = data[1]"
   ]
  },
  {
   "cell_type": "code",
   "execution_count": 116,
   "id": "634a90b6",
   "metadata": {},
   "outputs": [],
   "source": [
    "#문제, 정답 분리\n",
    "X_train = train[0]\n",
    "y_train = train[1]"
   ]
  },
  {
   "cell_type": "code",
   "execution_count": 117,
   "id": "000d3a77",
   "metadata": {},
   "outputs": [],
   "source": [
    "X_test = test[0]\n",
    "y_test = test[1]"
   ]
  },
  {
   "cell_type": "code",
   "execution_count": 118,
   "id": "62a7be79",
   "metadata": {},
   "outputs": [
    {
     "data": {
      "text/plain": [
       "array([[[0, 0, 0, ..., 0, 0, 0],\n",
       "        [0, 0, 0, ..., 0, 0, 0],\n",
       "        [0, 0, 0, ..., 0, 0, 0],\n",
       "        ...,\n",
       "        [0, 0, 0, ..., 0, 0, 0],\n",
       "        [0, 0, 0, ..., 0, 0, 0],\n",
       "        [0, 0, 0, ..., 0, 0, 0]],\n",
       "\n",
       "       [[0, 0, 0, ..., 0, 0, 0],\n",
       "        [0, 0, 0, ..., 0, 0, 0],\n",
       "        [0, 0, 0, ..., 0, 0, 0],\n",
       "        ...,\n",
       "        [0, 0, 0, ..., 0, 0, 0],\n",
       "        [0, 0, 0, ..., 0, 0, 0],\n",
       "        [0, 0, 0, ..., 0, 0, 0]],\n",
       "\n",
       "       [[0, 0, 0, ..., 0, 0, 0],\n",
       "        [0, 0, 0, ..., 0, 0, 0],\n",
       "        [0, 0, 0, ..., 0, 0, 0],\n",
       "        ...,\n",
       "        [0, 0, 0, ..., 0, 0, 0],\n",
       "        [0, 0, 0, ..., 0, 0, 0],\n",
       "        [0, 0, 0, ..., 0, 0, 0]],\n",
       "\n",
       "       ...,\n",
       "\n",
       "       [[0, 0, 0, ..., 0, 0, 0],\n",
       "        [0, 0, 0, ..., 0, 0, 0],\n",
       "        [0, 0, 0, ..., 0, 0, 0],\n",
       "        ...,\n",
       "        [0, 0, 0, ..., 0, 0, 0],\n",
       "        [0, 0, 0, ..., 0, 0, 0],\n",
       "        [0, 0, 0, ..., 0, 0, 0]],\n",
       "\n",
       "       [[0, 0, 0, ..., 0, 0, 0],\n",
       "        [0, 0, 0, ..., 0, 0, 0],\n",
       "        [0, 0, 0, ..., 0, 0, 0],\n",
       "        ...,\n",
       "        [0, 0, 0, ..., 0, 0, 0],\n",
       "        [0, 0, 0, ..., 0, 0, 0],\n",
       "        [0, 0, 0, ..., 0, 0, 0]],\n",
       "\n",
       "       [[0, 0, 0, ..., 0, 0, 0],\n",
       "        [0, 0, 0, ..., 0, 0, 0],\n",
       "        [0, 0, 0, ..., 0, 0, 0],\n",
       "        ...,\n",
       "        [0, 0, 0, ..., 0, 0, 0],\n",
       "        [0, 0, 0, ..., 0, 0, 0],\n",
       "        [0, 0, 0, ..., 0, 0, 0]]], dtype=uint8)"
      ]
     },
     "execution_count": 118,
     "metadata": {},
     "output_type": "execute_result"
    }
   ],
   "source": [
    "X_train  #손글씨 데이터"
   ]
  },
  {
   "cell_type": "code",
   "execution_count": 119,
   "id": "ff6eff97",
   "metadata": {},
   "outputs": [
    {
     "data": {
      "text/plain": [
       "((60000, 28, 28), (60000,))"
      ]
     },
     "execution_count": 119,
     "metadata": {},
     "output_type": "execute_result"
    }
   ],
   "source": [
    "X_train.shape, y_train.shape   # (데이터 개수, 가로,세로 픽셀 수)"
   ]
  },
  {
   "cell_type": "code",
   "execution_count": null,
   "id": "efbd0246",
   "metadata": {},
   "outputs": [],
   "source": []
  },
  {
   "cell_type": "markdown",
   "id": "547fd13a",
   "metadata": {},
   "source": [
    "##### 데이터 시각화"
   ]
  },
  {
   "cell_type": "code",
   "execution_count": 120,
   "id": "dd422a83",
   "metadata": {},
   "outputs": [],
   "source": [
    "import matplotlib.pyplot as plt"
   ]
  },
  {
   "cell_type": "code",
   "execution_count": 121,
   "id": "b3071618",
   "metadata": {},
   "outputs": [
    {
     "data": {
      "text/plain": [
       "array([[[0, 0, 0, ..., 0, 0, 0],\n",
       "        [0, 0, 0, ..., 0, 0, 0],\n",
       "        [0, 0, 0, ..., 0, 0, 0],\n",
       "        ...,\n",
       "        [0, 0, 0, ..., 0, 0, 0],\n",
       "        [0, 0, 0, ..., 0, 0, 0],\n",
       "        [0, 0, 0, ..., 0, 0, 0]],\n",
       "\n",
       "       [[0, 0, 0, ..., 0, 0, 0],\n",
       "        [0, 0, 0, ..., 0, 0, 0],\n",
       "        [0, 0, 0, ..., 0, 0, 0],\n",
       "        ...,\n",
       "        [0, 0, 0, ..., 0, 0, 0],\n",
       "        [0, 0, 0, ..., 0, 0, 0],\n",
       "        [0, 0, 0, ..., 0, 0, 0]],\n",
       "\n",
       "       [[0, 0, 0, ..., 0, 0, 0],\n",
       "        [0, 0, 0, ..., 0, 0, 0],\n",
       "        [0, 0, 0, ..., 0, 0, 0],\n",
       "        ...,\n",
       "        [0, 0, 0, ..., 0, 0, 0],\n",
       "        [0, 0, 0, ..., 0, 0, 0],\n",
       "        [0, 0, 0, ..., 0, 0, 0]],\n",
       "\n",
       "       ...,\n",
       "\n",
       "       [[0, 0, 0, ..., 0, 0, 0],\n",
       "        [0, 0, 0, ..., 0, 0, 0],\n",
       "        [0, 0, 0, ..., 0, 0, 0],\n",
       "        ...,\n",
       "        [0, 0, 0, ..., 0, 0, 0],\n",
       "        [0, 0, 0, ..., 0, 0, 0],\n",
       "        [0, 0, 0, ..., 0, 0, 0]],\n",
       "\n",
       "       [[0, 0, 0, ..., 0, 0, 0],\n",
       "        [0, 0, 0, ..., 0, 0, 0],\n",
       "        [0, 0, 0, ..., 0, 0, 0],\n",
       "        ...,\n",
       "        [0, 0, 0, ..., 0, 0, 0],\n",
       "        [0, 0, 0, ..., 0, 0, 0],\n",
       "        [0, 0, 0, ..., 0, 0, 0]],\n",
       "\n",
       "       [[0, 0, 0, ..., 0, 0, 0],\n",
       "        [0, 0, 0, ..., 0, 0, 0],\n",
       "        [0, 0, 0, ..., 0, 0, 0],\n",
       "        ...,\n",
       "        [0, 0, 0, ..., 0, 0, 0],\n",
       "        [0, 0, 0, ..., 0, 0, 0],\n",
       "        [0, 0, 0, ..., 0, 0, 0]]], dtype=uint8)"
      ]
     },
     "execution_count": 121,
     "metadata": {},
     "output_type": "execute_result"
    }
   ],
   "source": [
    "X_train  #인덱싱"
   ]
  },
  {
   "cell_type": "code",
   "execution_count": 122,
   "id": "19d9c4fb",
   "metadata": {},
   "outputs": [
    {
     "data": {
      "text/plain": [
       "<matplotlib.image.AxesImage at 0x140116d20c8>"
      ]
     },
     "execution_count": 122,
     "metadata": {},
     "output_type": "execute_result"
    },
    {
     "data": {
      "image/png": "[encoded data removed]",
      "text/plain": [
       "<Figure size 432x288 with 1 Axes>"
      ]
     },
     "metadata": {
      "needs_background": "light"
     },
     "output_type": "display_data"
    }
   ],
   "source": [
    "#픽셀 정보를 이미지화 시켜주는 함수\n",
    "plt.imshow(X_train[100])  #100번쨰 이미지\n",
    "\n",
    "# 흑백인데 보라색, 노랑 보임\n"
   ]
  },
  {
   "cell_type": "code",
   "execution_count": 123,
   "id": "f1ef1154",
   "metadata": {},
   "outputs": [
    {
     "data": {
      "text/plain": [
       "<matplotlib.image.AxesImage at 0x14011416648>"
      ]
     },
     "execution_count": 123,
     "metadata": {},
     "output_type": "execute_result"
    },
    {
     "data": {
      "image/png": "[encoded data removed]",
      "text/plain": [
       "<Figure size 432x288 with 1 Axes>"
      ]
     },
     "metadata": {
      "needs_background": "light"
     },
     "output_type": "display_data"
    }
   ],
   "source": [
    "plt.imshow(X_train[100], cmap='gray')  #원본이미지"
   ]
  },
  {
   "cell_type": "code",
   "execution_count": 124,
   "id": "289abe8e",
   "metadata": {},
   "outputs": [
    {
     "data": {
      "text/plain": [
       "5"
      ]
     },
     "execution_count": 124,
     "metadata": {},
     "output_type": "execute_result"
    }
   ],
   "source": [
    "y_train[100]  #라벨링은 숫자5"
   ]
  },
  {
   "cell_type": "code",
   "execution_count": 125,
   "id": "10b6e411",
   "metadata": {},
   "outputs": [
    {
     "data": {
      "text/plain": [
       "<matplotlib.image.AxesImage at 0x1400b87e408>"
      ]
     },
     "execution_count": 125,
     "metadata": {},
     "output_type": "execute_result"
    },
    {
     "data": {
      "image/png": "[encoded data removed]",
      "text/plain": [
       "<Figure size 432x288 with 1 Axes>"
      ]
     },
     "metadata": {
      "needs_background": "light"
     },
     "output_type": "display_data"
    }
   ],
   "source": [
    "plt.imshow(X_train[12345], cmap='gray')"
   ]
  },
  {
   "cell_type": "code",
   "execution_count": 126,
   "id": "5a2bfe5b",
   "metadata": {},
   "outputs": [
    {
     "data": {
      "text/plain": [
       "3"
      ]
     },
     "execution_count": 126,
     "metadata": {},
     "output_type": "execute_result"
    }
   ],
   "source": [
    "y_train[12345] "
   ]
  },
  {
   "cell_type": "code",
   "execution_count": 127,
   "id": "9f41391e",
   "metadata": {},
   "outputs": [],
   "source": [
    "import numpy as np"
   ]
  },
  {
   "cell_type": "code",
   "execution_count": 128,
   "id": "73d3cb2e",
   "metadata": {},
   "outputs": [
    {
     "data": {
      "text/plain": [
       "array([0, 1, 2, 3, 4, 5, 6, 7, 8, 9], dtype=uint8)"
      ]
     },
     "execution_count": 128,
     "metadata": {},
     "output_type": "execute_result"
    }
   ],
   "source": [
    "# 라벨 종류\n",
    "np.unique(y_train)"
   ]
  },
  {
   "cell_type": "code",
   "execution_count": 129,
   "id": "22d45c7b",
   "metadata": {},
   "outputs": [
    {
     "data": {
      "text/plain": [
       "array([5923, 6742, 5958, 6131, 5842, 5421, 5918, 6265, 5851, 5949],\n",
       "      dtype=int64)"
      ]
     },
     "execution_count": 129,
     "metadata": {},
     "output_type": "execute_result"
    }
   ],
   "source": [
    "# 라벨 빈도수\n",
    "np.bincount(y_train)"
   ]
  },
  {
   "cell_type": "code",
   "execution_count": 130,
   "id": "8f14852f",
   "metadata": {},
   "outputs": [
    {
     "data": {
      "text/plain": [
       "array([[[0, 0, 0, ..., 0, 0, 0],\n",
       "        [0, 0, 0, ..., 0, 0, 0],\n",
       "        [0, 0, 0, ..., 0, 0, 0],\n",
       "        ...,\n",
       "        [0, 0, 0, ..., 0, 0, 0],\n",
       "        [0, 0, 0, ..., 0, 0, 0],\n",
       "        [0, 0, 0, ..., 0, 0, 0]],\n",
       "\n",
       "       [[0, 0, 0, ..., 0, 0, 0],\n",
       "        [0, 0, 0, ..., 0, 0, 0],\n",
       "        [0, 0, 0, ..., 0, 0, 0],\n",
       "        ...,\n",
       "        [0, 0, 0, ..., 0, 0, 0],\n",
       "        [0, 0, 0, ..., 0, 0, 0],\n",
       "        [0, 0, 0, ..., 0, 0, 0]],\n",
       "\n",
       "       [[0, 0, 0, ..., 0, 0, 0],\n",
       "        [0, 0, 0, ..., 0, 0, 0],\n",
       "        [0, 0, 0, ..., 0, 0, 0],\n",
       "        ...,\n",
       "        [0, 0, 0, ..., 0, 0, 0],\n",
       "        [0, 0, 0, ..., 0, 0, 0],\n",
       "        [0, 0, 0, ..., 0, 0, 0]],\n",
       "\n",
       "       ...,\n",
       "\n",
       "       [[0, 0, 0, ..., 0, 0, 0],\n",
       "        [0, 0, 0, ..., 0, 0, 0],\n",
       "        [0, 0, 0, ..., 0, 0, 0],\n",
       "        ...,\n",
       "        [0, 0, 0, ..., 0, 0, 0],\n",
       "        [0, 0, 0, ..., 0, 0, 0],\n",
       "        [0, 0, 0, ..., 0, 0, 0]],\n",
       "\n",
       "       [[0, 0, 0, ..., 0, 0, 0],\n",
       "        [0, 0, 0, ..., 0, 0, 0],\n",
       "        [0, 0, 0, ..., 0, 0, 0],\n",
       "        ...,\n",
       "        [0, 0, 0, ..., 0, 0, 0],\n",
       "        [0, 0, 0, ..., 0, 0, 0],\n",
       "        [0, 0, 0, ..., 0, 0, 0]],\n",
       "\n",
       "       [[0, 0, 0, ..., 0, 0, 0],\n",
       "        [0, 0, 0, ..., 0, 0, 0],\n",
       "        [0, 0, 0, ..., 0, 0, 0],\n",
       "        ...,\n",
       "        [0, 0, 0, ..., 0, 0, 0],\n",
       "        [0, 0, 0, ..., 0, 0, 0],\n",
       "        [0, 0, 0, ..., 0, 0, 0]]], dtype=uint8)"
      ]
     },
     "execution_count": 130,
     "metadata": {},
     "output_type": "execute_result"
    }
   ],
   "source": [
    "X_train"
   ]
  },
  {
   "cell_type": "code",
   "execution_count": 131,
   "id": "4b2414bc",
   "metadata": {
    "scrolled": true
   },
   "outputs": [
    {
     "data": {
      "image/png": "[encoded data removed]",
      "text/plain": [
       "<Figure size 432x288 with 1 Axes>"
      ]
     },
     "metadata": {
      "needs_background": "light"
     },
     "output_type": "display_data"
    }
   ],
   "source": [
    "plt.hist(X_train[0])\n",
    "plt.show()\n",
    "# 숫자값들의 분포확인가능\n",
    "\n"
   ]
  },
  {
   "cell_type": "markdown",
   "id": "72ccd1a7",
   "metadata": {},
   "source": [
    "###  모델링\n",
    "1. 모델 구조 설계\n",
    "2. 모델 학습/평가 결과 시각화\n",
    "3. 모델 평가"
   ]
  },
  {
   "cell_type": "code",
   "execution_count": 132,
   "id": "bf1e9313",
   "metadata": {},
   "outputs": [],
   "source": [
    "# w, b를 초기화하는 값의 seed를 설정 - 같은 값으로 초기화\n",
    "import numpy as np\n",
    "import tensorflow as tf\n",
    "\n",
    "seed = 3\n",
    "\n",
    "np.random.seed(seed)\n",
    "tf.random.set_seed(seed)"
   ]
  },
  {
   "cell_type": "code",
   "execution_count": 133,
   "id": "518f8509",
   "metadata": {},
   "outputs": [],
   "source": [
    "from tensorflow.keras import Sequential\n",
    "from tensorflow.keras.layers import InputLayer, Dense, Flatten\n",
    "from tensorflow.keras.utils import to_categorical"
   ]
  },
  {
   "cell_type": "code",
   "execution_count": 134,
   "id": "ea1f7bf3",
   "metadata": {},
   "outputs": [
    {
     "data": {
      "text/plain": [
       "array([5, 0, 4, 1, 9, 2, 1, 3, 1, 4], dtype=uint8)"
      ]
     },
     "execution_count": 134,
     "metadata": {},
     "output_type": "execute_result"
    }
   ],
   "source": [
    "y_train[:10]"
   ]
  },
  {
   "cell_type": "code",
   "execution_count": 135,
   "id": "eaf709bc",
   "metadata": {},
   "outputs": [
    {
     "data": {
      "text/plain": [
       "array([[0., 0., 0., 0., 0., 1., 0., 0., 0., 0.],\n",
       "       [1., 0., 0., 0., 0., 0., 0., 0., 0., 0.],\n",
       "       [0., 0., 0., 0., 1., 0., 0., 0., 0., 0.],\n",
       "       [0., 1., 0., 0., 0., 0., 0., 0., 0., 0.],\n",
       "       [0., 0., 0., 0., 0., 0., 0., 0., 0., 1.],\n",
       "       [0., 0., 1., 0., 0., 0., 0., 0., 0., 0.],\n",
       "       [0., 1., 0., 0., 0., 0., 0., 0., 0., 0.],\n",
       "       [0., 0., 0., 1., 0., 0., 0., 0., 0., 0.],\n",
       "       [0., 1., 0., 0., 0., 0., 0., 0., 0., 0.],\n",
       "       [0., 0., 0., 0., 1., 0., 0., 0., 0., 0.]], dtype=float32)"
      ]
     },
     "execution_count": 135,
     "metadata": {},
     "output_type": "execute_result"
    }
   ],
   "source": [
    "# 확률 정보로 변환\n",
    "to_categorical(y_train[:10])"
   ]
  },
  {
   "cell_type": "code",
   "execution_count": 136,
   "id": "f44b0ec7",
   "metadata": {},
   "outputs": [],
   "source": [
    "y_train_one_hot = to_categorical(y_train)\n",
    "y_test_one_hot = to_categorical(y_test)"
   ]
  },
  {
   "cell_type": "code",
   "execution_count": 137,
   "id": "f5f4d14d",
   "metadata": {},
   "outputs": [
    {
     "data": {
      "text/plain": [
       "array([[0., 0., 0., ..., 0., 0., 0.],\n",
       "       [1., 0., 0., ..., 0., 0., 0.],\n",
       "       [0., 0., 0., ..., 0., 0., 0.],\n",
       "       ...,\n",
       "       [0., 0., 0., ..., 0., 0., 0.],\n",
       "       [0., 0., 0., ..., 0., 0., 0.],\n",
       "       [0., 0., 0., ..., 0., 1., 0.]], dtype=float32)"
      ]
     },
     "execution_count": 137,
     "metadata": {},
     "output_type": "execute_result"
    }
   ],
   "source": [
    "y_train_one_hot"
   ]
  },
  {
   "cell_type": "code",
   "execution_count": 153,
   "id": "66c9f64c",
   "metadata": {},
   "outputs": [],
   "source": [
    "# 1. 모델 구조 설계\n",
    "mnist_model = Sequential()\n",
    "\n",
    "mnist_model.add(InputLayer(input_shape=(28,28)))\n",
    "mnist_model.add(Flatten()) # 들어온 데이터를 1차원으로 평평하게 만들어주는 층\n",
    "mnist_model.add(Dense(units=32, activation='sigmoid'))\n",
    "mnist_model.add(Dense(units=64, activation='sigmoid'))\n",
    "mnist_model.add(Dense(units=64, activation='sigmoid'))\n",
    "mnist_model.add(Dense(units=32, activation='sigmoid'))\n",
    "mnist_model.add(Dense(units=10, activation='softmax')) #출력층\n",
    "# 다중분류의 출력층의 units=클래스의 수"
   ]
  },
  {
   "cell_type": "code",
   "execution_count": 154,
   "id": "c17be858",
   "metadata": {},
   "outputs": [],
   "source": [
    "# 2. 모델 학습/평가 방법 설정\n",
    "mnist_model.compile(loss='categorical_crossentropy',\n",
    "                   optimizer='Adam',\n",
    "                   metrics='accuracy')"
   ]
  },
  {
   "cell_type": "code",
   "execution_count": 140,
   "id": "ee12dba7",
   "metadata": {},
   "outputs": [],
   "source": [
    "# 3. 모델 학습 및 학습결과 시각화"
   ]
  },
  {
   "cell_type": "code",
   "execution_count": 141,
   "id": "092653ea",
   "metadata": {},
   "outputs": [
    {
     "name": "stdout",
     "output_type": "stream",
     "text": [
      "Epoch 1/100\n",
      "1313/1313 [==============================] - 1s 776us/step - loss: 1.3607 - accuracy: 0.5395 - val_loss: 0.8535 - val_accuracy: 0.7064\n",
      "Epoch 2/100\n",
      "1313/1313 [==============================] - 1s 683us/step - loss: 0.8094 - accuracy: 0.7302 - val_loss: 0.7007 - val_accuracy: 0.7807\n",
      "Epoch 3/100\n",
      "1313/1313 [==============================] - 1s 694us/step - loss: 0.6744 - accuracy: 0.7817 - val_loss: 0.6365 - val_accuracy: 0.7934\n",
      "Epoch 4/100\n",
      "1313/1313 [==============================] - 1s 698us/step - loss: 0.5974 - accuracy: 0.8151 - val_loss: 0.5511 - val_accuracy: 0.8358\n",
      "Epoch 5/100\n",
      "1313/1313 [==============================] - 1s 692us/step - loss: 0.5380 - accuracy: 0.8340 - val_loss: 0.5212 - val_accuracy: 0.8308\n",
      "Epoch 6/100\n",
      "1313/1313 [==============================] - 1s 692us/step - loss: 0.4969 - accuracy: 0.8457 - val_loss: 0.4771 - val_accuracy: 0.8528\n",
      "Epoch 7/100\n",
      "1313/1313 [==============================] - 1s 703us/step - loss: 0.4727 - accuracy: 0.8550 - val_loss: 0.4442 - val_accuracy: 0.8687\n",
      "Epoch 8/100\n",
      "1313/1313 [==============================] - 1s 685us/step - loss: 0.4525 - accuracy: 0.8602 - val_loss: 0.4198 - val_accuracy: 0.8758\n",
      "Epoch 9/100\n",
      "1313/1313 [==============================] - 1s 685us/step - loss: 0.4216 - accuracy: 0.8705 - val_loss: 0.4125 - val_accuracy: 0.8733\n",
      "Epoch 10/100\n",
      "1313/1313 [==============================] - 1s 658us/step - loss: 0.4215 - accuracy: 0.8713 - val_loss: 0.4297 - val_accuracy: 0.8652\n",
      "Epoch 11/100\n",
      "1313/1313 [==============================] - 1s 663us/step - loss: 0.3918 - accuracy: 0.8812 - val_loss: 0.4283 - val_accuracy: 0.8611\n",
      "Epoch 12/100\n",
      "1313/1313 [==============================] - 1s 695us/step - loss: 0.3818 - accuracy: 0.8844 - val_loss: 0.3625 - val_accuracy: 0.8916\n",
      "Epoch 13/100\n",
      "1313/1313 [==============================] - 1s 664us/step - loss: 0.3690 - accuracy: 0.8899 - val_loss: 0.3672 - val_accuracy: 0.8917\n",
      "Epoch 14/100\n",
      "1313/1313 [==============================] - 1s 660us/step - loss: 0.3889 - accuracy: 0.8794 - val_loss: 0.4394 - val_accuracy: 0.8636\n",
      "Epoch 15/100\n",
      "1313/1313 [==============================] - 1s 668us/step - loss: 0.3831 - accuracy: 0.8814 - val_loss: 0.3682 - val_accuracy: 0.8862\n",
      "Epoch 16/100\n",
      "1313/1313 [==============================] - 1s 660us/step - loss: 0.3605 - accuracy: 0.8919 - val_loss: 0.3387 - val_accuracy: 0.8985\n",
      "Epoch 17/100\n",
      "1313/1313 [==============================] - 1s 654us/step - loss: 0.3656 - accuracy: 0.8892 - val_loss: 0.3678 - val_accuracy: 0.8884\n",
      "Epoch 18/100\n",
      "1313/1313 [==============================] - 1s 665us/step - loss: 0.3461 - accuracy: 0.8939 - val_loss: 0.3158 - val_accuracy: 0.9076\n",
      "Epoch 19/100\n",
      "1313/1313 [==============================] - 1s 681us/step - loss: 0.3431 - accuracy: 0.8963 - val_loss: 0.3358 - val_accuracy: 0.8971\n",
      "Epoch 20/100\n",
      "1313/1313 [==============================] - 1s 721us/step - loss: 0.3269 - accuracy: 0.8995 - val_loss: 0.3284 - val_accuracy: 0.8995\n",
      "Epoch 21/100\n",
      "1313/1313 [==============================] - 1s 680us/step - loss: 0.3410 - accuracy: 0.8947 - val_loss: 0.3530 - val_accuracy: 0.8933\n",
      "Epoch 22/100\n",
      "1313/1313 [==============================] - 1s 689us/step - loss: 0.3292 - accuracy: 0.8996 - val_loss: 0.3201 - val_accuracy: 0.9059\n",
      "Epoch 23/100\n",
      "1313/1313 [==============================] - 1s 704us/step - loss: 0.3198 - accuracy: 0.9031 - val_loss: 0.3110 - val_accuracy: 0.9088\n",
      "Epoch 24/100\n",
      "1313/1313 [==============================] - 1s 690us/step - loss: 0.3110 - accuracy: 0.9066 - val_loss: 0.2993 - val_accuracy: 0.9106\n",
      "Epoch 25/100\n",
      "1313/1313 [==============================] - 1s 678us/step - loss: 0.2967 - accuracy: 0.9101 - val_loss: 0.3041 - val_accuracy: 0.9089\n",
      "Epoch 26/100\n",
      "1313/1313 [==============================] - 1s 659us/step - loss: 0.3021 - accuracy: 0.9072 - val_loss: 0.3039 - val_accuracy: 0.9075\n",
      "Epoch 27/100\n",
      "1313/1313 [==============================] - 1s 652us/step - loss: 0.2991 - accuracy: 0.9100 - val_loss: 0.3095 - val_accuracy: 0.9032\n",
      "Epoch 28/100\n",
      "1313/1313 [==============================] - 1s 666us/step - loss: 0.2924 - accuracy: 0.9088 - val_loss: 0.2865 - val_accuracy: 0.9121\n",
      "Epoch 29/100\n",
      "1313/1313 [==============================] - 1s 652us/step - loss: 0.2797 - accuracy: 0.9146 - val_loss: 0.2832 - val_accuracy: 0.9135\n",
      "Epoch 30/100\n",
      "1313/1313 [==============================] - 1s 679us/step - loss: 0.2779 - accuracy: 0.9157 - val_loss: 0.3121 - val_accuracy: 0.9054\n",
      "Epoch 31/100\n",
      "1313/1313 [==============================] - 1s 713us/step - loss: 0.2709 - accuracy: 0.9178 - val_loss: 0.2940 - val_accuracy: 0.9125\n",
      "Epoch 32/100\n",
      "1313/1313 [==============================] - 1s 685us/step - loss: 0.2640 - accuracy: 0.9203 - val_loss: 0.2781 - val_accuracy: 0.9161\n",
      "Epoch 33/100\n",
      "1313/1313 [==============================] - 1s 700us/step - loss: 0.2542 - accuracy: 0.9237 - val_loss: 0.2845 - val_accuracy: 0.9143\n",
      "Epoch 34/100\n",
      "1313/1313 [==============================] - 1s 702us/step - loss: 0.2711 - accuracy: 0.9189 - val_loss: 0.2757 - val_accuracy: 0.9161\n",
      "Epoch 35/100\n",
      "1313/1313 [==============================] - 1s 665us/step - loss: 0.2731 - accuracy: 0.9160 - val_loss: 0.2779 - val_accuracy: 0.9141\n",
      "Epoch 36/100\n",
      "1313/1313 [==============================] - 1s 697us/step - loss: 0.2651 - accuracy: 0.9196 - val_loss: 0.2827 - val_accuracy: 0.9138\n",
      "Epoch 37/100\n",
      "1313/1313 [==============================] - 1s 680us/step - loss: 0.2812 - accuracy: 0.9154 - val_loss: 0.3060 - val_accuracy: 0.9061\n",
      "Epoch 38/100\n",
      "1313/1313 [==============================] - 1s 685us/step - loss: 0.2815 - accuracy: 0.9124 - val_loss: 0.2884 - val_accuracy: 0.9120\n",
      "Epoch 39/100\n",
      "1313/1313 [==============================] - 1s 709us/step - loss: 0.2498 - accuracy: 0.9227 - val_loss: 0.2657 - val_accuracy: 0.9220\n",
      "Epoch 40/100\n",
      "1313/1313 [==============================] - 1s 698us/step - loss: 0.2482 - accuracy: 0.9238 - val_loss: 0.2601 - val_accuracy: 0.9183\n",
      "Epoch 41/100\n",
      "1313/1313 [==============================] - 1s 680us/step - loss: 0.2557 - accuracy: 0.9219 - val_loss: 0.2686 - val_accuracy: 0.9176\n",
      "Epoch 42/100\n",
      "1313/1313 [==============================] - 1s 709us/step - loss: 0.2520 - accuracy: 0.9228 - val_loss: 0.2666 - val_accuracy: 0.9192\n",
      "Epoch 43/100\n",
      "1313/1313 [==============================] - 1s 695us/step - loss: 0.2456 - accuracy: 0.9246 - val_loss: 0.2774 - val_accuracy: 0.9128\n",
      "Epoch 44/100\n",
      "1313/1313 [==============================] - 1s 697us/step - loss: 0.2636 - accuracy: 0.9179 - val_loss: 0.2880 - val_accuracy: 0.9093\n",
      "Epoch 45/100\n",
      "1313/1313 [==============================] - 1s 704us/step - loss: 0.2652 - accuracy: 0.9185 - val_loss: 0.2866 - val_accuracy: 0.9136\n",
      "Epoch 46/100\n",
      "1313/1313 [==============================] - 1s 693us/step - loss: 0.2744 - accuracy: 0.9157 - val_loss: 0.2758 - val_accuracy: 0.9167\n",
      "Epoch 47/100\n",
      "1313/1313 [==============================] - 1s 713us/step - loss: 0.2452 - accuracy: 0.9251 - val_loss: 0.2676 - val_accuracy: 0.9215\n",
      "Epoch 48/100\n",
      "1313/1313 [==============================] - 1s 771us/step - loss: 0.2531 - accuracy: 0.9224 - val_loss: 0.3032 - val_accuracy: 0.9104\n",
      "Epoch 49/100\n",
      "1313/1313 [==============================] - 1s 698us/step - loss: 0.2469 - accuracy: 0.9238 - val_loss: 0.2609 - val_accuracy: 0.9229\n",
      "Epoch 50/100\n",
      "1313/1313 [==============================] - 1s 685us/step - loss: 0.2413 - accuracy: 0.9264 - val_loss: 0.2516 - val_accuracy: 0.9242\n",
      "Epoch 51/100\n",
      "1313/1313 [==============================] - 1s 686us/step - loss: 0.2461 - accuracy: 0.9235 - val_loss: 0.2699 - val_accuracy: 0.9168\n",
      "Epoch 52/100\n",
      "1313/1313 [==============================] - 1s 678us/step - loss: 0.2405 - accuracy: 0.9259 - val_loss: 0.2524 - val_accuracy: 0.9222\n",
      "Epoch 53/100\n",
      "1313/1313 [==============================] - 1s 682us/step - loss: 0.2311 - accuracy: 0.9311 - val_loss: 0.2696 - val_accuracy: 0.9194\n",
      "Epoch 54/100\n",
      "1313/1313 [==============================] - 1s 706us/step - loss: 0.2383 - accuracy: 0.9263 - val_loss: 0.2632 - val_accuracy: 0.9209\n",
      "Epoch 55/100\n",
      "1313/1313 [==============================] - 1s 674us/step - loss: 0.2364 - accuracy: 0.9276 - val_loss: 0.2510 - val_accuracy: 0.9223\n",
      "Epoch 56/100\n"
     ]
    },
    {
     "name": "stdout",
     "output_type": "stream",
     "text": [
      "1313/1313 [==============================] - 1s 703us/step - loss: 0.2260 - accuracy: 0.9305 - val_loss: 0.2731 - val_accuracy: 0.9127\n",
      "Epoch 57/100\n",
      "1313/1313 [==============================] - 1s 684us/step - loss: 0.2426 - accuracy: 0.9256 - val_loss: 0.2565 - val_accuracy: 0.9226\n",
      "Epoch 58/100\n",
      "1313/1313 [==============================] - 1s 677us/step - loss: 0.2384 - accuracy: 0.9260 - val_loss: 0.2490 - val_accuracy: 0.9258\n",
      "Epoch 59/100\n",
      "1313/1313 [==============================] - 1s 697us/step - loss: 0.2355 - accuracy: 0.9276 - val_loss: 0.2627 - val_accuracy: 0.9194\n",
      "Epoch 60/100\n",
      "1313/1313 [==============================] - 1s 693us/step - loss: 0.2395 - accuracy: 0.9257 - val_loss: 0.2400 - val_accuracy: 0.9278\n",
      "Epoch 61/100\n",
      "1313/1313 [==============================] - 1s 682us/step - loss: 0.2284 - accuracy: 0.9304 - val_loss: 0.2503 - val_accuracy: 0.9251\n",
      "Epoch 62/100\n",
      "1313/1313 [==============================] - 1s 685us/step - loss: 0.2299 - accuracy: 0.9297 - val_loss: 0.2440 - val_accuracy: 0.9278\n",
      "Epoch 63/100\n",
      "1313/1313 [==============================] - 1s 692us/step - loss: 0.2230 - accuracy: 0.9323 - val_loss: 0.2445 - val_accuracy: 0.9248\n",
      "Epoch 64/100\n",
      "1313/1313 [==============================] - 1s 688us/step - loss: 0.2208 - accuracy: 0.9319 - val_loss: 0.2495 - val_accuracy: 0.9259\n",
      "Epoch 65/100\n",
      "1313/1313 [==============================] - 1s 716us/step - loss: 0.2229 - accuracy: 0.9307 - val_loss: 0.2500 - val_accuracy: 0.9234\n",
      "Epoch 66/100\n",
      "1313/1313 [==============================] - 1s 702us/step - loss: 0.2249 - accuracy: 0.9309 - val_loss: 0.2456 - val_accuracy: 0.9264\n",
      "Epoch 67/100\n",
      "1313/1313 [==============================] - 1s 690us/step - loss: 0.2107 - accuracy: 0.9342 - val_loss: 0.2305 - val_accuracy: 0.9315\n",
      "Epoch 68/100\n",
      "1313/1313 [==============================] - 1s 683us/step - loss: 0.2093 - accuracy: 0.9358 - val_loss: 0.2373 - val_accuracy: 0.9298\n",
      "Epoch 69/100\n",
      "1313/1313 [==============================] - 1s 694us/step - loss: 0.2066 - accuracy: 0.9366 - val_loss: 0.2377 - val_accuracy: 0.9290\n",
      "Epoch 70/100\n",
      "1313/1313 [==============================] - 1s 685us/step - loss: 0.2190 - accuracy: 0.9325 - val_loss: 0.2597 - val_accuracy: 0.9231\n",
      "Epoch 71/100\n",
      "1313/1313 [==============================] - 1s 704us/step - loss: 0.2223 - accuracy: 0.9299 - val_loss: 0.2447 - val_accuracy: 0.9254\n",
      "Epoch 72/100\n",
      "1313/1313 [==============================] - 1s 681us/step - loss: 0.2047 - accuracy: 0.9370 - val_loss: 0.2221 - val_accuracy: 0.9349\n",
      "Epoch 73/100\n",
      "1313/1313 [==============================] - 1s 688us/step - loss: 0.2000 - accuracy: 0.9394 - val_loss: 0.2309 - val_accuracy: 0.9327\n",
      "Epoch 74/100\n",
      "1313/1313 [==============================] - 1s 680us/step - loss: 0.2170 - accuracy: 0.9344 - val_loss: 0.2357 - val_accuracy: 0.9289\n",
      "Epoch 75/100\n",
      "1313/1313 [==============================] - 1s 690us/step - loss: 0.2169 - accuracy: 0.9337 - val_loss: 0.2483 - val_accuracy: 0.9235\n",
      "Epoch 76/100\n",
      "1313/1313 [==============================] - 1s 694us/step - loss: 0.2185 - accuracy: 0.9326 - val_loss: 0.2450 - val_accuracy: 0.9255\n",
      "Epoch 77/100\n",
      "1313/1313 [==============================] - 1s 677us/step - loss: 0.2125 - accuracy: 0.9335 - val_loss: 0.2391 - val_accuracy: 0.9277\n",
      "Epoch 78/100\n",
      "1313/1313 [==============================] - 1s 695us/step - loss: 0.2083 - accuracy: 0.9359 - val_loss: 0.2374 - val_accuracy: 0.9272\n",
      "Epoch 79/100\n",
      "1313/1313 [==============================] - 1s 702us/step - loss: 0.2065 - accuracy: 0.9350 - val_loss: 0.2359 - val_accuracy: 0.9297\n",
      "Epoch 80/100\n",
      "1313/1313 [==============================] - 1s 699us/step - loss: 0.2057 - accuracy: 0.9364 - val_loss: 0.2422 - val_accuracy: 0.9240\n",
      "Epoch 81/100\n",
      "1313/1313 [==============================] - 1s 704us/step - loss: 0.2073 - accuracy: 0.9363 - val_loss: 0.2286 - val_accuracy: 0.9310\n",
      "Epoch 82/100\n",
      "1313/1313 [==============================] - 1s 690us/step - loss: 0.2009 - accuracy: 0.9377 - val_loss: 0.2329 - val_accuracy: 0.9286\n",
      "Epoch 83/100\n",
      "1313/1313 [==============================] - 1s 765us/step - loss: 0.2065 - accuracy: 0.9362 - val_loss: 0.2265 - val_accuracy: 0.9292\n",
      "Epoch 84/100\n",
      "1313/1313 [==============================] - 1s 687us/step - loss: 0.2015 - accuracy: 0.9388 - val_loss: 0.2262 - val_accuracy: 0.9331\n",
      "Epoch 85/100\n",
      "1313/1313 [==============================] - 1s 700us/step - loss: 0.2070 - accuracy: 0.9364 - val_loss: 0.2360 - val_accuracy: 0.9277\n",
      "Epoch 86/100\n",
      "1313/1313 [==============================] - 1s 701us/step - loss: 0.2089 - accuracy: 0.9340 - val_loss: 0.2378 - val_accuracy: 0.9291\n",
      "Epoch 87/100\n",
      "1313/1313 [==============================] - 1s 707us/step - loss: 0.2081 - accuracy: 0.9357 - val_loss: 0.2319 - val_accuracy: 0.9320\n",
      "Epoch 88/100\n",
      "1313/1313 [==============================] - 1s 718us/step - loss: 0.2048 - accuracy: 0.9363 - val_loss: 0.2358 - val_accuracy: 0.9281\n",
      "Epoch 89/100\n",
      "1313/1313 [==============================] - 1s 693us/step - loss: 0.2049 - accuracy: 0.9359 - val_loss: 0.2265 - val_accuracy: 0.9315\n",
      "Epoch 90/100\n",
      "1313/1313 [==============================] - 1s 687us/step - loss: 0.1944 - accuracy: 0.9390 - val_loss: 0.2231 - val_accuracy: 0.9331\n",
      "Epoch 91/100\n",
      "1313/1313 [==============================] - 1s 730us/step - loss: 0.1987 - accuracy: 0.9387 - val_loss: 0.2341 - val_accuracy: 0.9311\n",
      "Epoch 92/100\n",
      "1313/1313 [==============================] - 1s 684us/step - loss: 0.1961 - accuracy: 0.9396 - val_loss: 0.2165 - val_accuracy: 0.9338\n",
      "Epoch 93/100\n",
      "1313/1313 [==============================] - 1s 669us/step - loss: 0.1902 - accuracy: 0.9403 - val_loss: 0.2157 - val_accuracy: 0.9349\n",
      "Epoch 94/100\n",
      "1313/1313 [==============================] - 1s 662us/step - loss: 0.1856 - accuracy: 0.9429 - val_loss: 0.2167 - val_accuracy: 0.9336\n",
      "Epoch 95/100\n",
      "1313/1313 [==============================] - 1s 670us/step - loss: 0.1960 - accuracy: 0.9407 - val_loss: 0.2258 - val_accuracy: 0.9306\n",
      "Epoch 96/100\n",
      "1313/1313 [==============================] - 1s 669us/step - loss: 0.1969 - accuracy: 0.9388 - val_loss: 0.2280 - val_accuracy: 0.9315\n",
      "Epoch 97/100\n",
      "1313/1313 [==============================] - 1s 677us/step - loss: 0.2062 - accuracy: 0.9349 - val_loss: 0.2317 - val_accuracy: 0.9280\n",
      "Epoch 98/100\n",
      "1313/1313 [==============================] - 1s 689us/step - loss: 0.1987 - accuracy: 0.9371 - val_loss: 0.2229 - val_accuracy: 0.9317\n",
      "Epoch 99/100\n",
      "1313/1313 [==============================] - 1s 690us/step - loss: 0.2055 - accuracy: 0.9363 - val_loss: 0.2293 - val_accuracy: 0.9273\n",
      "Epoch 100/100\n",
      "1313/1313 [==============================] - 1s 710us/step - loss: 0.2067 - accuracy: 0.9353 - val_loss: 0.2426 - val_accuracy: 0.9249\n"
     ]
    }
   ],
   "source": [
    "mnist_history = mnist_model.fit(X_train, y_train_one_hot, \n",
    "                validation_split=0.3, \n",
    "                epochs=100)"
   ]
  },
  {
   "cell_type": "code",
   "execution_count": 142,
   "id": "5c87680b",
   "metadata": {
    "scrolled": true
   },
   "outputs": [
    {
     "data": {
      "image/png": "[encoded data removed]",
      "text/plain": [
       "<Figure size 1080x360 with 1 Axes>"
      ]
     },
     "metadata": {
      "needs_background": "light"
     },
     "output_type": "display_data"
    }
   ],
   "source": [
    "plt.figure(figsize=(15,5))\n",
    "plt.plot(mnist_history.history['loss'], label='loss')\n",
    "plt.plot(mnist_history.history['val_loss'], label='val_loss')\n",
    "plt.legend()\n",
    "plt.show()"
   ]
  },
  {
   "cell_type": "code",
   "execution_count": 143,
   "id": "d4efa7f1",
   "metadata": {},
   "outputs": [
    {
     "data": {
      "image/png": "[encoded data removed]",
      "text/plain": [
       "<Figure size 1080x360 with 1 Axes>"
      ]
     },
     "metadata": {
      "needs_background": "light"
     },
     "output_type": "display_data"
    }
   ],
   "source": [
    "plt.figure(figsize=(15,5))\n",
    "plt.plot(mnist_history.history['accuracy'], label='accuracy')\n",
    "plt.plot(mnist_history.history['val_accuracy'], label='val_accuracy')\n",
    "plt.legend()\n",
    "plt.show()"
   ]
  },
  {
   "cell_type": "code",
   "execution_count": 144,
   "id": "4dccb3bb",
   "metadata": {},
   "outputs": [
    {
     "name": "stdout",
     "output_type": "stream",
     "text": [
      "313/313 [==============================] - 0s 460us/step - loss: 0.2325 - accuracy: 0.9271\n"
     ]
    },
    {
     "data": {
      "text/plain": [
       "[0.2324531525373459, 0.9271000027656555]"
      ]
     },
     "execution_count": 144,
     "metadata": {},
     "output_type": "execute_result"
    }
   ],
   "source": [
    "# 4. 모델 평가\n",
    "mnist_model.evaluate(X_test, y_test_one_hot)\n",
    "# out:  loss, acc"
   ]
  },
  {
   "cell_type": "markdown",
   "id": "8f89c22a",
   "metadata": {},
   "source": [
    "### 모델 저장하기"
   ]
  },
  {
   "cell_type": "code",
   "execution_count": 145,
   "id": "ab987ca8",
   "metadata": {},
   "outputs": [],
   "source": [
    "import os\n",
    "model_dir = \"./model\"\n",
    "\n",
    "# 해당 폴더가 없다면 \n",
    "if not os.path.exists(model_dir):\n",
    "    # 폴더를 생성\n",
    "    os.mkdir(model_dir)"
   ]
  },
  {
   "cell_type": "code",
   "execution_count": 146,
   "id": "a93d817a",
   "metadata": {},
   "outputs": [],
   "source": [
    "# 모델 저장\n",
    "mnist_model.save(\"./model/mnist_model.h5\")"
   ]
  },
  {
   "cell_type": "code",
   "execution_count": 147,
   "id": "7788a5e1",
   "metadata": {},
   "outputs": [
    {
     "name": "stdout",
     "output_type": "stream",
     "text": [
      "313/313 [==============================] - 0s 393us/step - loss: 0.2325 - accuracy: 0.9271\n"
     ]
    },
    {
     "data": {
      "text/plain": [
       "[0.2324531525373459, 0.9271000027656555]"
      ]
     },
     "execution_count": 147,
     "metadata": {},
     "output_type": "execute_result"
    }
   ],
   "source": [
    "# 모델 불러오기\n",
    "from tensorflow.keras.models import load_model\n",
    "\n",
    "new_model = load_model(\"./model/mnist_model.h5\")\n",
    "\n",
    "new_model.evaluate(X_test, y_test_one_hot)"
   ]
  },
  {
   "cell_type": "markdown",
   "id": "b48b4b99",
   "metadata": {},
   "source": [
    "### 베스트모델 저장하기 \n",
    "- 가장 좋은 모델이 학습 중에 나올 수 있으므로 중간 부분의 베스트 모델을 저장하는 기능\n",
    "- 평가 기준 : 정확도, loss (오차)\n",
    "- 데이터 : train, test (validation)\n",
    "\n",
    "- 베스트모델의 기준 : val_loss, val_accuracy, \n",
    "\n",
    "### 학습중단(EarlyStopping)\n",
    "- 더 이상 학습모델이 좋아지지 않는다면 학습을 중단하는 기능\n"
   ]
  },
  {
   "cell_type": "code",
   "execution_count": null,
   "id": "bf359d9d",
   "metadata": {},
   "outputs": [],
   "source": []
  },
  {
   "cell_type": "code",
   "execution_count": 155,
   "id": "1faf5a8c",
   "metadata": {
    "scrolled": false
   },
   "outputs": [
    {
     "name": "stdout",
     "output_type": "stream",
     "text": [
      "Epoch 1/100\n",
      "1875/1875 [==============================] - 1s 663us/step - loss: 1.2551 - accuracy: 0.5591 - val_loss: 0.7705 - val_accuracy: 0.7741\n",
      "Epoch 2/100\n",
      "1875/1875 [==============================] - 1s 602us/step - loss: 0.7042 - accuracy: 0.7783 - val_loss: 0.6321 - val_accuracy: 0.7945\n",
      "Epoch 3/100\n",
      "1875/1875 [==============================] - 1s 612us/step - loss: 0.6008 - accuracy: 0.8136 - val_loss: 0.5323 - val_accuracy: 0.8450\n",
      "Epoch 4/100\n",
      "1875/1875 [==============================] - 1s 582us/step - loss: 0.5391 - accuracy: 0.8365 - val_loss: 0.5344 - val_accuracy: 0.8402\n",
      "Epoch 5/100\n",
      "1875/1875 [==============================] - 1s 593us/step - loss: 0.5152 - accuracy: 0.8429 - val_loss: 0.5199 - val_accuracy: 0.8358\n",
      "Epoch 6/100\n",
      "1875/1875 [==============================] - 1s 584us/step - loss: 0.4863 - accuracy: 0.8525 - val_loss: 0.4449 - val_accuracy: 0.8670\n",
      "Epoch 7/100\n",
      "1875/1875 [==============================] - 1s 592us/step - loss: 0.4361 - accuracy: 0.8694 - val_loss: 0.3980 - val_accuracy: 0.8806\n",
      "Epoch 8/100\n",
      "1875/1875 [==============================] - ETA: 0s - loss: 0.4096 - accuracy: 0.87 - 1s 567us/step - loss: 0.4103 - accuracy: 0.8755 - val_loss: 0.3931 - val_accuracy: 0.8835\n",
      "Epoch 9/100\n",
      "1875/1875 [==============================] - 1s 578us/step - loss: 0.3920 - accuracy: 0.8847 - val_loss: 0.4068 - val_accuracy: 0.8774\n",
      "Epoch 10/100\n",
      "1875/1875 [==============================] - 1s 557us/step - loss: 0.3836 - accuracy: 0.8858 - val_loss: 0.3869 - val_accuracy: 0.8831\n",
      "Epoch 11/100\n",
      "1875/1875 [==============================] - 1s 563us/step - loss: 0.3762 - accuracy: 0.8865 - val_loss: 0.3744 - val_accuracy: 0.8858\n",
      "Epoch 12/100\n",
      "1875/1875 [==============================] - 1s 562us/step - loss: 0.3655 - accuracy: 0.8905 - val_loss: 0.3629 - val_accuracy: 0.8922\n",
      "Epoch 13/100\n",
      "1875/1875 [==============================] - 1s 550us/step - loss: 0.3359 - accuracy: 0.8992 - val_loss: 0.3664 - val_accuracy: 0.8911\n",
      "Epoch 14/100\n",
      "1875/1875 [==============================] - 1s 584us/step - loss: 0.3499 - accuracy: 0.8938 - val_loss: 0.3279 - val_accuracy: 0.9018\n",
      "Epoch 15/100\n",
      "1875/1875 [==============================] - 1s 582us/step - loss: 0.3207 - accuracy: 0.9044 - val_loss: 0.3185 - val_accuracy: 0.9061\n",
      "Epoch 16/100\n",
      "1875/1875 [==============================] - 1s 595us/step - loss: 0.3159 - accuracy: 0.9050 - val_loss: 0.3042 - val_accuracy: 0.9111\n",
      "Epoch 17/100\n",
      "1875/1875 [==============================] - 1s 562us/step - loss: 0.3096 - accuracy: 0.9075 - val_loss: 0.3270 - val_accuracy: 0.9027\n",
      "Epoch 18/100\n",
      "1875/1875 [==============================] - 1s 563us/step - loss: 0.3107 - accuracy: 0.9060 - val_loss: 0.3114 - val_accuracy: 0.9063\n",
      "Epoch 19/100\n",
      "1875/1875 [==============================] - 1s 599us/step - loss: 0.3118 - accuracy: 0.9046 - val_loss: 0.3073 - val_accuracy: 0.9102\n",
      "Epoch 20/100\n",
      "1875/1875 [==============================] - 1s 667us/step - loss: 0.2936 - accuracy: 0.9114 - val_loss: 0.3069 - val_accuracy: 0.9115\n",
      "Epoch 21/100\n",
      "1875/1875 [==============================] - 1s 673us/step - loss: 0.2970 - accuracy: 0.9118 - val_loss: 0.3061 - val_accuracy: 0.9065\n",
      "Epoch 22/100\n",
      "1875/1875 [==============================] - 1s 610us/step - loss: 0.3196 - accuracy: 0.9047 - val_loss: 0.3028 - val_accuracy: 0.9073\n",
      "Epoch 23/100\n",
      "1875/1875 [==============================] - 1s 685us/step - loss: 0.2982 - accuracy: 0.9110 - val_loss: 0.2844 - val_accuracy: 0.9136\n",
      "Epoch 24/100\n",
      "1875/1875 [==============================] - 1s 584us/step - loss: 0.2955 - accuracy: 0.9125 - val_loss: 0.3045 - val_accuracy: 0.9068\n",
      "Epoch 25/100\n",
      "1875/1875 [==============================] - 1s 586us/step - loss: 0.2837 - accuracy: 0.9139 - val_loss: 0.2916 - val_accuracy: 0.9153\n",
      "Epoch 26/100\n",
      "1875/1875 [==============================] - 1s 579us/step - loss: 0.2748 - accuracy: 0.9171 - val_loss: 0.2765 - val_accuracy: 0.9169\n",
      "Epoch 27/100\n",
      "1875/1875 [==============================] - 1s 574us/step - loss: 0.2733 - accuracy: 0.9179 - val_loss: 0.2783 - val_accuracy: 0.9186\n",
      "Epoch 28/100\n",
      "1875/1875 [==============================] - 1s 592us/step - loss: 0.2688 - accuracy: 0.9207 - val_loss: 0.2672 - val_accuracy: 0.9212\n",
      "Epoch 29/100\n",
      "1875/1875 [==============================] - 1s 582us/step - loss: 0.2623 - accuracy: 0.9213 - val_loss: 0.2780 - val_accuracy: 0.9147\n",
      "Epoch 30/100\n",
      "1875/1875 [==============================] - 1s 626us/step - loss: 0.2571 - accuracy: 0.9219 - val_loss: 0.2772 - val_accuracy: 0.9164\n",
      "Epoch 31/100\n",
      "1875/1875 [==============================] - 1s 597us/step - loss: 0.2595 - accuracy: 0.9224 - val_loss: 0.2710 - val_accuracy: 0.9229\n",
      "Epoch 32/100\n",
      "1875/1875 [==============================] - 1s 589us/step - loss: 0.2563 - accuracy: 0.9237 - val_loss: 0.2671 - val_accuracy: 0.9203\n",
      "Epoch 33/100\n",
      "1875/1875 [==============================] - 1s 593us/step - loss: 0.2591 - accuracy: 0.9222 - val_loss: 0.2588 - val_accuracy: 0.9230\n",
      "Epoch 34/100\n",
      "1875/1875 [==============================] - 1s 568us/step - loss: 0.2522 - accuracy: 0.9239 - val_loss: 0.2601 - val_accuracy: 0.9226\n",
      "Epoch 35/100\n",
      "1875/1875 [==============================] - 1s 576us/step - loss: 0.2447 - accuracy: 0.9262 - val_loss: 0.2658 - val_accuracy: 0.9214\n",
      "Epoch 36/100\n",
      "1875/1875 [==============================] - 1s 607us/step - loss: 0.2465 - accuracy: 0.9271 - val_loss: 0.2659 - val_accuracy: 0.9217\n",
      "Epoch 37/100\n",
      "1875/1875 [==============================] - 1s 586us/step - loss: 0.2457 - accuracy: 0.9278 - val_loss: 0.2425 - val_accuracy: 0.9273\n",
      "Epoch 38/100\n",
      "1875/1875 [==============================] - 1s 592us/step - loss: 0.2417 - accuracy: 0.9285 - val_loss: 0.2491 - val_accuracy: 0.9280\n",
      "Epoch 39/100\n",
      "1875/1875 [==============================] - 1s 586us/step - loss: 0.2427 - accuracy: 0.9268 - val_loss: 0.2410 - val_accuracy: 0.9283\n",
      "Epoch 40/100\n",
      "1875/1875 [==============================] - 1s 600us/step - loss: 0.2449 - accuracy: 0.9267 - val_loss: 0.2702 - val_accuracy: 0.9197\n",
      "Epoch 41/100\n",
      "1875/1875 [==============================] - 1s 569us/step - loss: 0.2412 - accuracy: 0.9275 - val_loss: 0.2453 - val_accuracy: 0.9250\n",
      "Epoch 42/100\n",
      "1875/1875 [==============================] - 1s 565us/step - loss: 0.2300 - accuracy: 0.9313 - val_loss: 0.2550 - val_accuracy: 0.9245\n",
      "Epoch 43/100\n",
      "1875/1875 [==============================] - 1s 562us/step - loss: 0.2388 - accuracy: 0.9282 - val_loss: 0.2577 - val_accuracy: 0.9209\n",
      "Epoch 44/100\n",
      "1875/1875 [==============================] - 1s 563us/step - loss: 0.2294 - accuracy: 0.9309 - val_loss: 0.2400 - val_accuracy: 0.9273\n"
     ]
    }
   ],
   "source": [
    "from tensorflow.keras.callbacks import ModelCheckpoint, EarlyStopping\n",
    "\n",
    "# 저장할 파일명 설정\n",
    "# {epoch:03d} : epoch 값을 가져와서 3자리 정수(d)로 표시하고 3자리가 안되면 왼쪽에 0을 채워서 표시\n",
    "# {loss:.2f} : loss 값을 가져와서 소수점 2째자리까지 표시\n",
    "# {val_loss:.2f} : val_loss 값을 가져와서 소수점 2째자리까지 표시\n",
    "# 최종파일명 : mnist_010_0.03_0.02.hdf5\n",
    "file_name = \"./model/mnist_{epoch:03d}_{loss:.4f}_{val_loss:.4f}.hdf5\"\n",
    "\n",
    "# monitor : 베스트모델의 기준\n",
    "# save_best_only : 베스트 모델인 경우에만 저장\n",
    "mc = ModelCheckpoint(filepath=file_name,\n",
    "                    monitor=\"val_accuracy\",\n",
    "                    save_best_only=True)\n",
    "\n",
    "# monitor : 학습중단기준 (ModelCheckpoint의 monitor과 같은 값)\n",
    "# patience : 학습모델이 더 좋지 않아도 기다려주는 횟수\n",
    "es = EarlyStopping(monitor=\"val_accuracy\",\n",
    "                  patience=5)\n",
    "\n",
    "\n",
    "history2 = mnist_model.fit(X_train, y_train_one_hot,\n",
    "               validation_data=(X_test, y_test_one_hot),\n",
    "               epochs=100, callbacks=[mc, es])"
   ]
  },
  {
   "cell_type": "code",
   "execution_count": null,
   "id": "f320f0ee",
   "metadata": {},
   "outputs": [],
   "source": []
  },
  {
   "cell_type": "code",
   "execution_count": null,
   "id": "066e56a3",
   "metadata": {},
   "outputs": [],
   "source": []
  },
  {
   "cell_type": "code",
   "execution_count": null,
   "id": "bf365d9d",
   "metadata": {},
   "outputs": [],
   "source": []
  },
  {
   "cell_type": "code",
   "execution_count": null,
   "id": "15172c9b",
   "metadata": {},
   "outputs": [],
   "source": []
  },
  {
   "cell_type": "code",
   "execution_count": null,
   "id": "547952e8",
   "metadata": {},
   "outputs": [],
   "source": []
  },
  {
   "cell_type": "code",
   "execution_count": null,
   "id": "8838f4f8",
   "metadata": {},
   "outputs": [],
   "source": []
  },
  {
   "cell_type": "code",
   "execution_count": null,
   "id": "af5f165a",
   "metadata": {},
   "outputs": [],
   "source": []
  },
  {
   "cell_type": "code",
   "execution_count": null,
   "id": "b2e32410",
   "metadata": {},
   "outputs": [],
   "source": []
  },
  {
   "cell_type": "code",
   "execution_count": null,
   "id": "1fdce313",
   "metadata": {},
   "outputs": [],
   "source": []
  },
  {
   "cell_type": "code",
   "execution_count": null,
   "id": "cb2e7947",
   "metadata": {},
   "outputs": [],
   "source": []
  },
  {
   "cell_type": "code",
   "execution_count": null,
   "id": "18325f08",
   "metadata": {},
   "outputs": [],
   "source": []
  },
  {
   "cell_type": "code",
   "execution_count": null,
   "id": "200e6d29",
   "metadata": {},
   "outputs": [],
   "source": []
  },
  {
   "cell_type": "code",
   "execution_count": null,
   "id": "b217d2c4",
   "metadata": {},
   "outputs": [],
   "source": []
  },
  {
   "cell_type": "code",
   "execution_count": null,
   "id": "51c89534",
   "metadata": {},
   "outputs": [],
   "source": []
  },
  {
   "cell_type": "code",
   "execution_count": null,
   "id": "01a118e4",
   "metadata": {},
   "outputs": [],
   "source": []
  },
  {
   "cell_type": "code",
   "execution_count": null,
   "id": "17513897",
   "metadata": {},
   "outputs": [],
   "source": []
  },
  {
   "cell_type": "code",
   "execution_count": null,
   "id": "8399cc6d",
   "metadata": {},
   "outputs": [],
   "source": []
  }
 ],
 "metadata": {
  "kernelspec": {
   "display_name": "Python 3.10.5 64-bit",
   "language": "python",
   "name": "python3"
  },
  "language_info": {
   "codemirror_mode": {
    "name": "ipython",
    "version": 3
   },
   "file_extension": ".py",
   "mimetype": "text/x-python",
   "name": "python",
   "nbconvert_exporter": "python",
   "pygments_lexer": "ipython3",
   "version": "3.10.5"
  },
  "vscode": {
   "interpreter": {
    "hash": "369f2c481f4da34e4445cda3fffd2e751bd1c4d706f27375911949ba6bb62e1c"
   }
  }
 },
 "nbformat": 4,
 "nbformat_minor": 5
}

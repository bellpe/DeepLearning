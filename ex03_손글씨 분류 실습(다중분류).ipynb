{
 "cells": [
  {
   "cell_type": "code",
   "execution_count": 83,
   "id": "15d999e7",
   "metadata": {},
   "outputs": [],
   "source": [
    "import tensorflow as tf"
   ]
  },
  {
   "cell_type": "markdown",
   "id": "7cc8cc8f",
   "metadata": {},
   "source": [
    "##### 데이터 로딩"
   ]
  },
  {
   "cell_type": "code",
   "execution_count": 84,
   "id": "be866873",
   "metadata": {},
   "outputs": [],
   "source": [
    "from tensorflow.keras.datasets import mnist\n",
    "# 손글씨 데이터"
   ]
  },
  {
   "cell_type": "code",
   "execution_count": 85,
   "id": "85eea982",
   "metadata": {},
   "outputs": [],
   "source": [
    "data = mnist.load_data()  # 데이터불러와서 변수에넣기"
   ]
  },
  {
   "cell_type": "code",
   "execution_count": 86,
   "id": "d2de139b",
   "metadata": {},
   "outputs": [
    {
     "data": {
      "text/plain": [
       "2"
      ]
     },
     "execution_count": 86,
     "metadata": {},
     "output_type": "execute_result"
    }
   ],
   "source": [
    "len(data)"
   ]
  },
  {
   "cell_type": "code",
   "execution_count": 87,
   "id": "1e866a41",
   "metadata": {},
   "outputs": [
    {
     "name": "stdout",
     "output_type": "stream",
     "text": [
      "2\n",
      "2\n"
     ]
    }
   ],
   "source": [
    "print(len(data[0]))  # 이중리스트 [[X,y],[X,y]]\n",
    "print(len(data[1]))"
   ]
  },
  {
   "cell_type": "code",
   "execution_count": 88,
   "id": "3520e955",
   "metadata": {},
   "outputs": [],
   "source": [
    "# 훈련, 테스트\n",
    "train = data[0]\n",
    "test = data[1]"
   ]
  },
  {
   "cell_type": "code",
   "execution_count": 89,
   "id": "634a90b6",
   "metadata": {},
   "outputs": [],
   "source": [
    "#문제, 정답 분리\n",
    "X_train = train[0]\n",
    "y_train = train[1]"
   ]
  },
  {
   "cell_type": "code",
   "execution_count": 90,
   "id": "000d3a77",
   "metadata": {},
   "outputs": [],
   "source": [
    "X_test = test[0]\n",
    "y_test = test[1]"
   ]
  },
  {
   "cell_type": "code",
   "execution_count": 91,
   "id": "62a7be79",
   "metadata": {},
   "outputs": [
    {
     "data": {
      "text/plain": [
       "array([[[0, 0, 0, ..., 0, 0, 0],\n",
       "        [0, 0, 0, ..., 0, 0, 0],\n",
       "        [0, 0, 0, ..., 0, 0, 0],\n",
       "        ...,\n",
       "        [0, 0, 0, ..., 0, 0, 0],\n",
       "        [0, 0, 0, ..., 0, 0, 0],\n",
       "        [0, 0, 0, ..., 0, 0, 0]],\n",
       "\n",
       "       [[0, 0, 0, ..., 0, 0, 0],\n",
       "        [0, 0, 0, ..., 0, 0, 0],\n",
       "        [0, 0, 0, ..., 0, 0, 0],\n",
       "        ...,\n",
       "        [0, 0, 0, ..., 0, 0, 0],\n",
       "        [0, 0, 0, ..., 0, 0, 0],\n",
       "        [0, 0, 0, ..., 0, 0, 0]],\n",
       "\n",
       "       [[0, 0, 0, ..., 0, 0, 0],\n",
       "        [0, 0, 0, ..., 0, 0, 0],\n",
       "        [0, 0, 0, ..., 0, 0, 0],\n",
       "        ...,\n",
       "        [0, 0, 0, ..., 0, 0, 0],\n",
       "        [0, 0, 0, ..., 0, 0, 0],\n",
       "        [0, 0, 0, ..., 0, 0, 0]],\n",
       "\n",
       "       ...,\n",
       "\n",
       "       [[0, 0, 0, ..., 0, 0, 0],\n",
       "        [0, 0, 0, ..., 0, 0, 0],\n",
       "        [0, 0, 0, ..., 0, 0, 0],\n",
       "        ...,\n",
       "        [0, 0, 0, ..., 0, 0, 0],\n",
       "        [0, 0, 0, ..., 0, 0, 0],\n",
       "        [0, 0, 0, ..., 0, 0, 0]],\n",
       "\n",
       "       [[0, 0, 0, ..., 0, 0, 0],\n",
       "        [0, 0, 0, ..., 0, 0, 0],\n",
       "        [0, 0, 0, ..., 0, 0, 0],\n",
       "        ...,\n",
       "        [0, 0, 0, ..., 0, 0, 0],\n",
       "        [0, 0, 0, ..., 0, 0, 0],\n",
       "        [0, 0, 0, ..., 0, 0, 0]],\n",
       "\n",
       "       [[0, 0, 0, ..., 0, 0, 0],\n",
       "        [0, 0, 0, ..., 0, 0, 0],\n",
       "        [0, 0, 0, ..., 0, 0, 0],\n",
       "        ...,\n",
       "        [0, 0, 0, ..., 0, 0, 0],\n",
       "        [0, 0, 0, ..., 0, 0, 0],\n",
       "        [0, 0, 0, ..., 0, 0, 0]]], dtype=uint8)"
      ]
     },
     "execution_count": 91,
     "metadata": {},
     "output_type": "execute_result"
    }
   ],
   "source": [
    "X_train  #손글씨 데이터"
   ]
  },
  {
   "cell_type": "code",
   "execution_count": 92,
   "id": "ff6eff97",
   "metadata": {},
   "outputs": [
    {
     "data": {
      "text/plain": [
       "((60000, 28, 28), (60000,))"
      ]
     },
     "execution_count": 92,
     "metadata": {},
     "output_type": "execute_result"
    }
   ],
   "source": [
    "X_train.shape, y_train.shape   # (데이터 개수, 가로,세로 픽셀 수)"
   ]
  },
  {
   "cell_type": "code",
   "execution_count": null,
   "id": "efbd0246",
   "metadata": {},
   "outputs": [],
   "source": []
  },
  {
   "cell_type": "markdown",
   "id": "547fd13a",
   "metadata": {},
   "source": [
    "##### 데이터 시각화"
   ]
  },
  {
   "cell_type": "code",
   "execution_count": 93,
   "id": "dd422a83",
   "metadata": {},
   "outputs": [],
   "source": [
    "import matplotlib.pyplot as plt"
   ]
  },
  {
   "cell_type": "code",
   "execution_count": 94,
   "id": "b3071618",
   "metadata": {},
   "outputs": [
    {
     "data": {
      "text/plain": [
       "array([[[0, 0, 0, ..., 0, 0, 0],\n",
       "        [0, 0, 0, ..., 0, 0, 0],\n",
       "        [0, 0, 0, ..., 0, 0, 0],\n",
       "        ...,\n",
       "        [0, 0, 0, ..., 0, 0, 0],\n",
       "        [0, 0, 0, ..., 0, 0, 0],\n",
       "        [0, 0, 0, ..., 0, 0, 0]],\n",
       "\n",
       "       [[0, 0, 0, ..., 0, 0, 0],\n",
       "        [0, 0, 0, ..., 0, 0, 0],\n",
       "        [0, 0, 0, ..., 0, 0, 0],\n",
       "        ...,\n",
       "        [0, 0, 0, ..., 0, 0, 0],\n",
       "        [0, 0, 0, ..., 0, 0, 0],\n",
       "        [0, 0, 0, ..., 0, 0, 0]],\n",
       "\n",
       "       [[0, 0, 0, ..., 0, 0, 0],\n",
       "        [0, 0, 0, ..., 0, 0, 0],\n",
       "        [0, 0, 0, ..., 0, 0, 0],\n",
       "        ...,\n",
       "        [0, 0, 0, ..., 0, 0, 0],\n",
       "        [0, 0, 0, ..., 0, 0, 0],\n",
       "        [0, 0, 0, ..., 0, 0, 0]],\n",
       "\n",
       "       ...,\n",
       "\n",
       "       [[0, 0, 0, ..., 0, 0, 0],\n",
       "        [0, 0, 0, ..., 0, 0, 0],\n",
       "        [0, 0, 0, ..., 0, 0, 0],\n",
       "        ...,\n",
       "        [0, 0, 0, ..., 0, 0, 0],\n",
       "        [0, 0, 0, ..., 0, 0, 0],\n",
       "        [0, 0, 0, ..., 0, 0, 0]],\n",
       "\n",
       "       [[0, 0, 0, ..., 0, 0, 0],\n",
       "        [0, 0, 0, ..., 0, 0, 0],\n",
       "        [0, 0, 0, ..., 0, 0, 0],\n",
       "        ...,\n",
       "        [0, 0, 0, ..., 0, 0, 0],\n",
       "        [0, 0, 0, ..., 0, 0, 0],\n",
       "        [0, 0, 0, ..., 0, 0, 0]],\n",
       "\n",
       "       [[0, 0, 0, ..., 0, 0, 0],\n",
       "        [0, 0, 0, ..., 0, 0, 0],\n",
       "        [0, 0, 0, ..., 0, 0, 0],\n",
       "        ...,\n",
       "        [0, 0, 0, ..., 0, 0, 0],\n",
       "        [0, 0, 0, ..., 0, 0, 0],\n",
       "        [0, 0, 0, ..., 0, 0, 0]]], dtype=uint8)"
      ]
     },
     "execution_count": 94,
     "metadata": {},
     "output_type": "execute_result"
    }
   ],
   "source": [
    "X_train  #인덱싱"
   ]
  },
  {
   "cell_type": "code",
   "execution_count": 95,
   "id": "19d9c4fb",
   "metadata": {},
   "outputs": [
    {
     "data": {
      "text/plain": [
       "<matplotlib.image.AxesImage at 0x2a5e3f549c8>"
      ]
     },
     "execution_count": 95,
     "metadata": {},
     "output_type": "execute_result"
    },
    {
     "data": {
      "image/png": "[encoded data removed]",
      "text/plain": [
       "<Figure size 432x288 with 1 Axes>"
      ]
     },
     "metadata": {
      "needs_background": "light"
     },
     "output_type": "display_data"
    }
   ],
   "source": [
    "#픽셀 정보를 이미지화 시켜주는 함수\n",
    "plt.imshow(X_train[100])  #100번쨰 이미지\n",
    "\n",
    "# 흑백인데 보라색, 노랑 보임\n"
   ]
  },
  {
   "cell_type": "code",
   "execution_count": 96,
   "id": "f1ef1154",
   "metadata": {},
   "outputs": [
    {
     "data": {
      "text/plain": [
       "<matplotlib.image.AxesImage at 0x2a5e3fcb948>"
      ]
     },
     "execution_count": 96,
     "metadata": {},
     "output_type": "execute_result"
    },
    {
     "data": {
      "image/png": "[encoded data removed]",
      "text/plain": [
       "<Figure size 432x288 with 1 Axes>"
      ]
     },
     "metadata": {
      "needs_background": "light"
     },
     "output_type": "display_data"
    }
   ],
   "source": [
    "plt.imshow(X_train[100], cmap='gray')  #원본이미지"
   ]
  },
  {
   "cell_type": "code",
   "execution_count": 97,
   "id": "289abe8e",
   "metadata": {},
   "outputs": [
    {
     "data": {
      "text/plain": [
       "5"
      ]
     },
     "execution_count": 97,
     "metadata": {},
     "output_type": "execute_result"
    }
   ],
   "source": [
    "y_train[100]  #라벨링은 숫자5"
   ]
  },
  {
   "cell_type": "code",
   "execution_count": 98,
   "id": "10b6e411",
   "metadata": {},
   "outputs": [
    {
     "data": {
      "text/plain": [
       "<matplotlib.image.AxesImage at 0x2a5e4041f88>"
      ]
     },
     "execution_count": 98,
     "metadata": {},
     "output_type": "execute_result"
    },
    {
     "data": {
      "image/png": "[encoded data removed]",
      "text/plain": [
       "<Figure size 432x288 with 1 Axes>"
      ]
     },
     "metadata": {
      "needs_background": "light"
     },
     "output_type": "display_data"
    }
   ],
   "source": [
    "plt.imshow(X_train[12345], cmap='gray')"
   ]
  },
  {
   "cell_type": "code",
   "execution_count": 99,
   "id": "5a2bfe5b",
   "metadata": {},
   "outputs": [
    {
     "data": {
      "text/plain": [
       "3"
      ]
     },
     "execution_count": 99,
     "metadata": {},
     "output_type": "execute_result"
    }
   ],
   "source": [
    "y_train[12345] "
   ]
  },
  {
   "cell_type": "code",
   "execution_count": 100,
   "id": "9f41391e",
   "metadata": {},
   "outputs": [],
   "source": [
    "import numpy as np"
   ]
  },
  {
   "cell_type": "code",
   "execution_count": 101,
   "id": "73d3cb2e",
   "metadata": {},
   "outputs": [
    {
     "data": {
      "text/plain": [
       "array([0, 1, 2, 3, 4, 5, 6, 7, 8, 9], dtype=uint8)"
      ]
     },
     "execution_count": 101,
     "metadata": {},
     "output_type": "execute_result"
    }
   ],
   "source": [
    "# 라벨 종류\n",
    "np.unique(y_train)"
   ]
  },
  {
   "cell_type": "code",
   "execution_count": 102,
   "id": "22d45c7b",
   "metadata": {},
   "outputs": [
    {
     "data": {
      "text/plain": [
       "array([5923, 6742, 5958, 6131, 5842, 5421, 5918, 6265, 5851, 5949],\n",
       "      dtype=int64)"
      ]
     },
     "execution_count": 102,
     "metadata": {},
     "output_type": "execute_result"
    }
   ],
   "source": [
    "# 라벨 빈도수\n",
    "np.bincount(y_train)"
   ]
  },
  {
   "cell_type": "code",
   "execution_count": 103,
   "id": "8f14852f",
   "metadata": {},
   "outputs": [
    {
     "data": {
      "text/plain": [
       "array([[[0, 0, 0, ..., 0, 0, 0],\n",
       "        [0, 0, 0, ..., 0, 0, 0],\n",
       "        [0, 0, 0, ..., 0, 0, 0],\n",
       "        ...,\n",
       "        [0, 0, 0, ..., 0, 0, 0],\n",
       "        [0, 0, 0, ..., 0, 0, 0],\n",
       "        [0, 0, 0, ..., 0, 0, 0]],\n",
       "\n",
       "       [[0, 0, 0, ..., 0, 0, 0],\n",
       "        [0, 0, 0, ..., 0, 0, 0],\n",
       "        [0, 0, 0, ..., 0, 0, 0],\n",
       "        ...,\n",
       "        [0, 0, 0, ..., 0, 0, 0],\n",
       "        [0, 0, 0, ..., 0, 0, 0],\n",
       "        [0, 0, 0, ..., 0, 0, 0]],\n",
       "\n",
       "       [[0, 0, 0, ..., 0, 0, 0],\n",
       "        [0, 0, 0, ..., 0, 0, 0],\n",
       "        [0, 0, 0, ..., 0, 0, 0],\n",
       "        ...,\n",
       "        [0, 0, 0, ..., 0, 0, 0],\n",
       "        [0, 0, 0, ..., 0, 0, 0],\n",
       "        [0, 0, 0, ..., 0, 0, 0]],\n",
       "\n",
       "       ...,\n",
       "\n",
       "       [[0, 0, 0, ..., 0, 0, 0],\n",
       "        [0, 0, 0, ..., 0, 0, 0],\n",
       "        [0, 0, 0, ..., 0, 0, 0],\n",
       "        ...,\n",
       "        [0, 0, 0, ..., 0, 0, 0],\n",
       "        [0, 0, 0, ..., 0, 0, 0],\n",
       "        [0, 0, 0, ..., 0, 0, 0]],\n",
       "\n",
       "       [[0, 0, 0, ..., 0, 0, 0],\n",
       "        [0, 0, 0, ..., 0, 0, 0],\n",
       "        [0, 0, 0, ..., 0, 0, 0],\n",
       "        ...,\n",
       "        [0, 0, 0, ..., 0, 0, 0],\n",
       "        [0, 0, 0, ..., 0, 0, 0],\n",
       "        [0, 0, 0, ..., 0, 0, 0]],\n",
       "\n",
       "       [[0, 0, 0, ..., 0, 0, 0],\n",
       "        [0, 0, 0, ..., 0, 0, 0],\n",
       "        [0, 0, 0, ..., 0, 0, 0],\n",
       "        ...,\n",
       "        [0, 0, 0, ..., 0, 0, 0],\n",
       "        [0, 0, 0, ..., 0, 0, 0],\n",
       "        [0, 0, 0, ..., 0, 0, 0]]], dtype=uint8)"
      ]
     },
     "execution_count": 103,
     "metadata": {},
     "output_type": "execute_result"
    }
   ],
   "source": [
    "X_train"
   ]
  },
  {
   "cell_type": "code",
   "execution_count": 104,
   "id": "4b2414bc",
   "metadata": {
    "scrolled": true
   },
   "outputs": [
    {
     "data": {
      "image/png": "[encoded data removed]",
      "text/plain": [
       "<Figure size 432x288 with 1 Axes>"
      ]
     },
     "metadata": {
      "needs_background": "light"
     },
     "output_type": "display_data"
    }
   ],
   "source": [
    "plt.hist(X_train[0])\n",
    "plt.show()\n",
    "# 숫자값들의 분포확인가능\n",
    "\n"
   ]
  },
  {
   "cell_type": "markdown",
   "id": "72ccd1a7",
   "metadata": {},
   "source": [
    "###  모델링\n",
    "1. 모델 구조 설계\n",
    "2. 모델 학습/평가 결과 시각화\n",
    "3. 모델 평가"
   ]
  },
  {
   "cell_type": "code",
   "execution_count": 105,
   "id": "518f8509",
   "metadata": {},
   "outputs": [],
   "source": [
    "from tensorflow.keras import Sequential\n",
    "from tensorflow.keras.layers import InputLayer, Dense, Flatten\n",
    "from tensorflow.keras.utils import to_categorical"
   ]
  },
  {
   "cell_type": "code",
   "execution_count": 106,
   "id": "ea1f7bf3",
   "metadata": {},
   "outputs": [
    {
     "data": {
      "text/plain": [
       "array([5, 0, 4, 1, 9, 2, 1, 3, 1, 4], dtype=uint8)"
      ]
     },
     "execution_count": 106,
     "metadata": {},
     "output_type": "execute_result"
    }
   ],
   "source": [
    "y_train[:10]"
   ]
  },
  {
   "cell_type": "code",
   "execution_count": 107,
   "id": "eaf709bc",
   "metadata": {},
   "outputs": [
    {
     "data": {
      "text/plain": [
       "array([[0., 0., 0., 0., 0., 1., 0., 0., 0., 0.],\n",
       "       [1., 0., 0., 0., 0., 0., 0., 0., 0., 0.],\n",
       "       [0., 0., 0., 0., 1., 0., 0., 0., 0., 0.],\n",
       "       [0., 1., 0., 0., 0., 0., 0., 0., 0., 0.],\n",
       "       [0., 0., 0., 0., 0., 0., 0., 0., 0., 1.],\n",
       "       [0., 0., 1., 0., 0., 0., 0., 0., 0., 0.],\n",
       "       [0., 1., 0., 0., 0., 0., 0., 0., 0., 0.],\n",
       "       [0., 0., 0., 1., 0., 0., 0., 0., 0., 0.],\n",
       "       [0., 1., 0., 0., 0., 0., 0., 0., 0., 0.],\n",
       "       [0., 0., 0., 0., 1., 0., 0., 0., 0., 0.]], dtype=float32)"
      ]
     },
     "execution_count": 107,
     "metadata": {},
     "output_type": "execute_result"
    }
   ],
   "source": [
    "# 확률 정보로 변환\n",
    "to_categorical(y_train[:10])"
   ]
  },
  {
   "cell_type": "code",
   "execution_count": 108,
   "id": "f44b0ec7",
   "metadata": {},
   "outputs": [],
   "source": [
    "y_train_one_hot = to_categorical(y_train)\n",
    "y_test_one_hot = to_categorical(y_test)"
   ]
  },
  {
   "cell_type": "code",
   "execution_count": 109,
   "id": "f5f4d14d",
   "metadata": {},
   "outputs": [
    {
     "data": {
      "text/plain": [
       "array([[0., 0., 0., ..., 0., 0., 0.],\n",
       "       [1., 0., 0., ..., 0., 0., 0.],\n",
       "       [0., 0., 0., ..., 0., 0., 0.],\n",
       "       ...,\n",
       "       [0., 0., 0., ..., 0., 0., 0.],\n",
       "       [0., 0., 0., ..., 0., 0., 0.],\n",
       "       [0., 0., 0., ..., 0., 1., 0.]], dtype=float32)"
      ]
     },
     "execution_count": 109,
     "metadata": {},
     "output_type": "execute_result"
    }
   ],
   "source": [
    "y_train_one_hot"
   ]
  },
  {
   "cell_type": "code",
   "execution_count": 110,
   "id": "66c9f64c",
   "metadata": {},
   "outputs": [],
   "source": [
    "# 1. 모델 구조 설계\n",
    "mnist_model = Sequential()\n",
    "\n",
    "mnist_model.add(InputLayer(input_shape=(28,28)))\n",
    "mnist_model.add(Flatten()) # 들어온 데이터를 1차원으로 평평하게 만들어주는 층\n",
    "mnist_model.add(Dense(units=32, activation='sigmoid'))\n",
    "mnist_model.add(Dense(units=64, activation='sigmoid'))\n",
    "mnist_model.add(Dense(units=64, activation='sigmoid'))\n",
    "mnist_model.add(Dense(units=32, activation='sigmoid'))\n",
    "mnist_model.add(Dense(units=10, activation='softmax')) #출력층\n",
    "# 다중분류의 출력층의 units=클래스의 수"
   ]
  },
  {
   "cell_type": "code",
   "execution_count": 111,
   "id": "c17be858",
   "metadata": {},
   "outputs": [],
   "source": [
    "# 2. 모델 학습/평가 방법 설정\n",
    "mnist_model.compile(loss='categorical_crossentropy',\n",
    "                   optimizer='Adam',\n",
    "                   metrics='accuracy')"
   ]
  },
  {
   "cell_type": "code",
   "execution_count": 112,
   "id": "ee12dba7",
   "metadata": {},
   "outputs": [],
   "source": [
    "# 3. 모델 학습 및 학습결과 시각화"
   ]
  },
  {
   "cell_type": "code",
   "execution_count": 113,
   "id": "092653ea",
   "metadata": {
    "collapsed": true
   },
   "outputs": [
    {
     "name": "stdout",
     "output_type": "stream",
     "text": [
      "Epoch 1/100\n",
      "1313/1313 [==============================] - 1s 727us/step - loss: 1.4913 - accuracy: 0.4694 - val_loss: 1.0185 - val_accuracy: 0.6682\n",
      "Epoch 2/100\n",
      "1313/1313 [==============================] - 1s 650us/step - loss: 0.8692 - accuracy: 0.7191 - val_loss: 0.7000 - val_accuracy: 0.7837\n",
      "Epoch 3/100\n",
      "1313/1313 [==============================] - 1s 646us/step - loss: 0.6318 - accuracy: 0.8049 - val_loss: 0.5612 - val_accuracy: 0.8278\n",
      "Epoch 4/100\n",
      "1313/1313 [==============================] - 1s 642us/step - loss: 0.5552 - accuracy: 0.8260 - val_loss: 0.5192 - val_accuracy: 0.8403\n",
      "Epoch 5/100\n",
      "1313/1313 [==============================] - 1s 667us/step - loss: 0.5175 - accuracy: 0.8416 - val_loss: 0.4725 - val_accuracy: 0.8584\n",
      "Epoch 6/100\n",
      "1313/1313 [==============================] - 1s 697us/step - loss: 0.4596 - accuracy: 0.8625 - val_loss: 0.4704 - val_accuracy: 0.8551\n",
      "Epoch 7/100\n",
      "1313/1313 [==============================] - 1s 652us/step - loss: 0.4450 - accuracy: 0.8656 - val_loss: 0.4125 - val_accuracy: 0.8790\n",
      "Epoch 8/100\n",
      "1313/1313 [==============================] - 1s 652us/step - loss: 0.4077 - accuracy: 0.8788 - val_loss: 0.4062 - val_accuracy: 0.8818\n",
      "Epoch 9/100\n",
      "1313/1313 [==============================] - 1s 657us/step - loss: 0.4182 - accuracy: 0.8739 - val_loss: 0.4235 - val_accuracy: 0.8695\n",
      "Epoch 10/100\n",
      "1313/1313 [==============================] - 1s 658us/step - loss: 0.3882 - accuracy: 0.8827 - val_loss: 0.3666 - val_accuracy: 0.8920\n",
      "Epoch 11/100\n",
      "1313/1313 [==============================] - 1s 660us/step - loss: 0.3789 - accuracy: 0.8850 - val_loss: 0.3705 - val_accuracy: 0.8864\n",
      "Epoch 12/100\n",
      "1313/1313 [==============================] - 1s 654us/step - loss: 0.3847 - accuracy: 0.8851 - val_loss: 0.3943 - val_accuracy: 0.8810\n",
      "Epoch 13/100\n",
      "1313/1313 [==============================] - 1s 655us/step - loss: 0.3663 - accuracy: 0.8910 - val_loss: 0.3781 - val_accuracy: 0.8913\n",
      "Epoch 14/100\n",
      "1313/1313 [==============================] - 1s 641us/step - loss: 0.3956 - accuracy: 0.8832 - val_loss: 0.3736 - val_accuracy: 0.8904\n",
      "Epoch 15/100\n",
      "1313/1313 [==============================] - 1s 647us/step - loss: 0.3692 - accuracy: 0.8895 - val_loss: 0.3804 - val_accuracy: 0.8863\n",
      "Epoch 16/100\n",
      "1313/1313 [==============================] - 1s 647us/step - loss: 0.3639 - accuracy: 0.8913 - val_loss: 0.3384 - val_accuracy: 0.9027\n",
      "Epoch 17/100\n",
      "1313/1313 [==============================] - 1s 643us/step - loss: 0.3523 - accuracy: 0.8960 - val_loss: 0.3737 - val_accuracy: 0.8884\n",
      "Epoch 18/100\n",
      "1313/1313 [==============================] - 1s 645us/step - loss: 0.3663 - accuracy: 0.8909 - val_loss: 0.3605 - val_accuracy: 0.8916\n",
      "Epoch 19/100\n",
      "1313/1313 [==============================] - 1s 646us/step - loss: 0.3391 - accuracy: 0.8982 - val_loss: 0.3478 - val_accuracy: 0.8959\n",
      "Epoch 20/100\n",
      "1313/1313 [==============================] - 1s 647us/step - loss: 0.3394 - accuracy: 0.8968 - val_loss: 0.3308 - val_accuracy: 0.9006\n",
      "Epoch 21/100\n",
      "1313/1313 [==============================] - 1s 663us/step - loss: 0.3186 - accuracy: 0.9047 - val_loss: 0.3374 - val_accuracy: 0.8974\n",
      "Epoch 22/100\n",
      "1313/1313 [==============================] - 1s 643us/step - loss: 0.3339 - accuracy: 0.8965 - val_loss: 0.3209 - val_accuracy: 0.9045\n",
      "Epoch 23/100\n",
      "1313/1313 [==============================] - 1s 643us/step - loss: 0.3211 - accuracy: 0.9018 - val_loss: 0.3243 - val_accuracy: 0.9037\n",
      "Epoch 24/100\n",
      "1313/1313 [==============================] - 1s 667us/step - loss: 0.3164 - accuracy: 0.9043 - val_loss: 0.3248 - val_accuracy: 0.9029\n",
      "Epoch 25/100\n",
      "1313/1313 [==============================] - 1s 681us/step - loss: 0.3178 - accuracy: 0.9037 - val_loss: 0.3121 - val_accuracy: 0.9077\n",
      "Epoch 26/100\n",
      "1313/1313 [==============================] - 1s 659us/step - loss: 0.3122 - accuracy: 0.9052 - val_loss: 0.3123 - val_accuracy: 0.9019\n",
      "Epoch 27/100\n",
      "1313/1313 [==============================] - 1s 651us/step - loss: 0.2961 - accuracy: 0.9116 - val_loss: 0.3000 - val_accuracy: 0.9092\n",
      "Epoch 28/100\n",
      "1313/1313 [==============================] - 1s 649us/step - loss: 0.2906 - accuracy: 0.9130 - val_loss: 0.3070 - val_accuracy: 0.9098\n",
      "Epoch 29/100\n",
      "1313/1313 [==============================] - 1s 647us/step - loss: 0.2859 - accuracy: 0.9142 - val_loss: 0.2811 - val_accuracy: 0.9171\n",
      "Epoch 30/100\n",
      "1313/1313 [==============================] - 1s 649us/step - loss: 0.2920 - accuracy: 0.9118 - val_loss: 0.2933 - val_accuracy: 0.9161\n",
      "Epoch 31/100\n",
      "1313/1313 [==============================] - 1s 645us/step - loss: 0.2950 - accuracy: 0.9112 - val_loss: 0.3041 - val_accuracy: 0.9089\n",
      "Epoch 32/100\n",
      "1313/1313 [==============================] - 1s 651us/step - loss: 0.2765 - accuracy: 0.9188 - val_loss: 0.2730 - val_accuracy: 0.9201\n",
      "Epoch 33/100\n",
      "1313/1313 [==============================] - 1s 649us/step - loss: 0.2806 - accuracy: 0.9147 - val_loss: 0.3109 - val_accuracy: 0.9061\n",
      "Epoch 34/100\n",
      "1313/1313 [==============================] - 1s 647us/step - loss: 0.2784 - accuracy: 0.9154 - val_loss: 0.2764 - val_accuracy: 0.9182\n",
      "Epoch 35/100\n",
      "1313/1313 [==============================] - 1s 652us/step - loss: 0.2735 - accuracy: 0.9174 - val_loss: 0.3018 - val_accuracy: 0.9085\n",
      "Epoch 36/100\n",
      "1313/1313 [==============================] - 1s 651us/step - loss: 0.2772 - accuracy: 0.9163 - val_loss: 0.2888 - val_accuracy: 0.9159\n",
      "Epoch 37/100\n",
      "1313/1313 [==============================] - 1s 654us/step - loss: 0.2643 - accuracy: 0.9205 - val_loss: 0.2700 - val_accuracy: 0.9201\n",
      "Epoch 38/100\n",
      "1313/1313 [==============================] - 1s 642us/step - loss: 0.2621 - accuracy: 0.9225 - val_loss: 0.2900 - val_accuracy: 0.9109\n",
      "Epoch 39/100\n",
      "1313/1313 [==============================] - 1s 657us/step - loss: 0.2667 - accuracy: 0.9207 - val_loss: 0.2738 - val_accuracy: 0.9168\n",
      "Epoch 40/100\n",
      "1313/1313 [==============================] - 1s 647us/step - loss: 0.2504 - accuracy: 0.9256 - val_loss: 0.2833 - val_accuracy: 0.9149\n",
      "Epoch 41/100\n",
      "1313/1313 [==============================] - 1s 644us/step - loss: 0.2601 - accuracy: 0.9224 - val_loss: 0.2738 - val_accuracy: 0.9202\n",
      "Epoch 42/100\n",
      "1313/1313 [==============================] - 1s 650us/step - loss: 0.2663 - accuracy: 0.9195 - val_loss: 0.2870 - val_accuracy: 0.9147\n",
      "Epoch 43/100\n",
      "1313/1313 [==============================] - 1s 684us/step - loss: 0.2725 - accuracy: 0.9175 - val_loss: 0.2817 - val_accuracy: 0.9144\n",
      "Epoch 44/100\n",
      "1313/1313 [==============================] - 1s 649us/step - loss: 0.2582 - accuracy: 0.9208 - val_loss: 0.2923 - val_accuracy: 0.9133\n",
      "Epoch 45/100\n",
      "1313/1313 [==============================] - 1s 652us/step - loss: 0.2665 - accuracy: 0.9183 - val_loss: 0.2834 - val_accuracy: 0.9154\n",
      "Epoch 46/100\n",
      "1313/1313 [==============================] - 1s 659us/step - loss: 0.2554 - accuracy: 0.9218 - val_loss: 0.2665 - val_accuracy: 0.9200\n",
      "Epoch 47/100\n",
      "1313/1313 [==============================] - 1s 647us/step - loss: 0.2482 - accuracy: 0.9241 - val_loss: 0.2669 - val_accuracy: 0.9197\n",
      "Epoch 48/100\n",
      "1313/1313 [==============================] - 1s 649us/step - loss: 0.2426 - accuracy: 0.9253 - val_loss: 0.2598 - val_accuracy: 0.9223\n",
      "Epoch 49/100\n",
      "1313/1313 [==============================] - 1s 655us/step - loss: 0.2433 - accuracy: 0.9255 - val_loss: 0.2714 - val_accuracy: 0.9169\n",
      "Epoch 50/100\n",
      "1313/1313 [==============================] - 1s 669us/step - loss: 0.2506 - accuracy: 0.9240 - val_loss: 0.2565 - val_accuracy: 0.9212\n",
      "Epoch 51/100\n",
      "1313/1313 [==============================] - 1s 658us/step - loss: 0.2336 - accuracy: 0.9303 - val_loss: 0.2597 - val_accuracy: 0.9227\n",
      "Epoch 52/100\n",
      "1313/1313 [==============================] - 1s 647us/step - loss: 0.2347 - accuracy: 0.9295 - val_loss: 0.2575 - val_accuracy: 0.9233\n",
      "Epoch 53/100\n",
      "1313/1313 [==============================] - 1s 661us/step - loss: 0.2290 - accuracy: 0.9297 - val_loss: 0.2592 - val_accuracy: 0.9253\n",
      "Epoch 54/100\n",
      "1313/1313 [==============================] - 1s 648us/step - loss: 0.2340 - accuracy: 0.9292 - val_loss: 0.2563 - val_accuracy: 0.9223\n",
      "Epoch 55/100\n",
      "1313/1313 [==============================] - 1s 650us/step - loss: 0.2249 - accuracy: 0.9329 - val_loss: 0.2425 - val_accuracy: 0.9289\n",
      "Epoch 56/100\n",
      "1313/1313 [==============================] - 1s 651us/step - loss: 0.2260 - accuracy: 0.9324 - val_loss: 0.2437 - val_accuracy: 0.9245\n",
      "Epoch 57/100\n",
      "1313/1313 [==============================] - 1s 660us/step - loss: 0.2309 - accuracy: 0.9295 - val_loss: 0.2635 - val_accuracy: 0.9187\n",
      "Epoch 58/100\n",
      "1313/1313 [==============================] - 1s 648us/step - loss: 0.2199 - accuracy: 0.9337 - val_loss: 0.2266 - val_accuracy: 0.9309\n",
      "Epoch 59/100\n",
      "1313/1313 [==============================] - 1s 650us/step - loss: 0.2211 - accuracy: 0.9337 - val_loss: 0.2475 - val_accuracy: 0.9274\n",
      "Epoch 60/100\n",
      "1313/1313 [==============================] - 1s 661us/step - loss: 0.2321 - accuracy: 0.9308 - val_loss: 0.2523 - val_accuracy: 0.9248\n",
      "Epoch 61/100\n",
      "1313/1313 [==============================] - 1s 662us/step - loss: 0.2426 - accuracy: 0.9273 - val_loss: 0.2556 - val_accuracy: 0.9249\n",
      "Epoch 62/100\n",
      "1313/1313 [==============================] - 1s 705us/step - loss: 0.2368 - accuracy: 0.9273 - val_loss: 0.2563 - val_accuracy: 0.9237\n",
      "Epoch 63/100\n",
      "1313/1313 [==============================] - 1s 657us/step - loss: 0.2206 - accuracy: 0.9333 - val_loss: 0.2470 - val_accuracy: 0.9253\n",
      "Epoch 64/100\n",
      "1313/1313 [==============================] - 1s 652us/step - loss: 0.2290 - accuracy: 0.9301 - val_loss: 0.2486 - val_accuracy: 0.9229\n",
      "Epoch 65/100\n",
      "1313/1313 [==============================] - 1s 658us/step - loss: 0.2216 - accuracy: 0.9326 - val_loss: 0.2508 - val_accuracy: 0.9233\n",
      "Epoch 66/100\n",
      "1313/1313 [==============================] - 1s 651us/step - loss: 0.2191 - accuracy: 0.9326 - val_loss: 0.2486 - val_accuracy: 0.9262\n",
      "Epoch 67/100\n",
      "1313/1313 [==============================] - 1s 646us/step - loss: 0.2162 - accuracy: 0.9346 - val_loss: 0.2384 - val_accuracy: 0.9290\n",
      "Epoch 68/100\n",
      "1313/1313 [==============================] - 1s 653us/step - loss: 0.2159 - accuracy: 0.9349 - val_loss: 0.2391 - val_accuracy: 0.9273\n",
      "Epoch 69/100\n",
      "1313/1313 [==============================] - 1s 658us/step - loss: 0.2221 - accuracy: 0.9341 - val_loss: 0.2558 - val_accuracy: 0.9227\n",
      "Epoch 70/100\n",
      "1313/1313 [==============================] - 1s 674us/step - loss: 0.2162 - accuracy: 0.9350 - val_loss: 0.2304 - val_accuracy: 0.9307\n",
      "Epoch 71/100\n",
      "1313/1313 [==============================] - 1s 669us/step - loss: 0.2158 - accuracy: 0.9337 - val_loss: 0.2287 - val_accuracy: 0.9327\n",
      "Epoch 72/100\n",
      "1313/1313 [==============================] - 1s 657us/step - loss: 0.2148 - accuracy: 0.9357 - val_loss: 0.2401 - val_accuracy: 0.9282\n",
      "Epoch 73/100\n",
      "1313/1313 [==============================] - 1s 644us/step - loss: 0.2154 - accuracy: 0.9350 - val_loss: 0.2305 - val_accuracy: 0.9323\n",
      "Epoch 74/100\n",
      "1313/1313 [==============================] - 1s 646us/step - loss: 0.2128 - accuracy: 0.9353 - val_loss: 0.2263 - val_accuracy: 0.9328\n",
      "Epoch 75/100\n",
      "1313/1313 [==============================] - 1s 652us/step - loss: 0.2060 - accuracy: 0.9381 - val_loss: 0.2378 - val_accuracy: 0.9274\n",
      "Epoch 76/100\n",
      "1313/1313 [==============================] - 1s 648us/step - loss: 0.2129 - accuracy: 0.9352 - val_loss: 0.2350 - val_accuracy: 0.9284\n",
      "Epoch 77/100\n",
      "1313/1313 [==============================] - 1s 654us/step - loss: 0.2126 - accuracy: 0.9365 - val_loss: 0.2334 - val_accuracy: 0.9318\n",
      "Epoch 78/100\n",
      "1313/1313 [==============================] - 1s 650us/step - loss: 0.2055 - accuracy: 0.9388 - val_loss: 0.2193 - val_accuracy: 0.9369\n",
      "Epoch 79/100\n",
      "1313/1313 [==============================] - 1s 647us/step - loss: 0.2112 - accuracy: 0.9366 - val_loss: 0.2225 - val_accuracy: 0.9321\n",
      "Epoch 80/100\n",
      "1313/1313 [==============================] - 1s 677us/step - loss: 0.1986 - accuracy: 0.9396 - val_loss: 0.2214 - val_accuracy: 0.9351\n",
      "Epoch 81/100\n",
      "1313/1313 [==============================] - 1s 661us/step - loss: 0.2070 - accuracy: 0.9367 - val_loss: 0.2342 - val_accuracy: 0.9297\n",
      "Epoch 82/100\n",
      "1313/1313 [==============================] - 1s 647us/step - loss: 0.1985 - accuracy: 0.9402 - val_loss: 0.2213 - val_accuracy: 0.9337\n",
      "Epoch 83/100\n",
      "1313/1313 [==============================] - 1s 651us/step - loss: 0.2063 - accuracy: 0.9358 - val_loss: 0.2321 - val_accuracy: 0.9303\n",
      "Epoch 84/100\n",
      "1313/1313 [==============================] - 1s 655us/step - loss: 0.2011 - accuracy: 0.9376 - val_loss: 0.2251 - val_accuracy: 0.9298\n",
      "Epoch 85/100\n",
      "1313/1313 [==============================] - 1s 647us/step - loss: 0.2007 - accuracy: 0.9374 - val_loss: 0.2344 - val_accuracy: 0.9283\n",
      "Epoch 86/100\n",
      "1313/1313 [==============================] - 1s 647us/step - loss: 0.2065 - accuracy: 0.9353 - val_loss: 0.2209 - val_accuracy: 0.9336\n",
      "Epoch 87/100\n",
      "1313/1313 [==============================] - 1s 650us/step - loss: 0.1944 - accuracy: 0.9400 - val_loss: 0.2250 - val_accuracy: 0.9320\n",
      "Epoch 88/100\n",
      "1313/1313 [==============================] - 1s 647us/step - loss: 0.1980 - accuracy: 0.9400 - val_loss: 0.2208 - val_accuracy: 0.9333\n",
      "Epoch 89/100\n",
      "1313/1313 [==============================] - 1s 644us/step - loss: 0.1939 - accuracy: 0.9403 - val_loss: 0.2305 - val_accuracy: 0.9303\n",
      "Epoch 90/100\n",
      "1313/1313 [==============================] - 1s 650us/step - loss: 0.1935 - accuracy: 0.9401 - val_loss: 0.2186 - val_accuracy: 0.9341\n",
      "Epoch 91/100\n",
      "1313/1313 [==============================] - 1s 661us/step - loss: 0.1897 - accuracy: 0.9410 - val_loss: 0.2224 - val_accuracy: 0.9328\n",
      "Epoch 92/100\n",
      "1313/1313 [==============================] - 1s 657us/step - loss: 0.1995 - accuracy: 0.9392 - val_loss: 0.2253 - val_accuracy: 0.9308\n",
      "Epoch 93/100\n",
      "1313/1313 [==============================] - 1s 652us/step - loss: 0.1973 - accuracy: 0.9403 - val_loss: 0.2199 - val_accuracy: 0.9334\n",
      "Epoch 94/100\n",
      "1313/1313 [==============================] - 1s 667us/step - loss: 0.1831 - accuracy: 0.9441 - val_loss: 0.2144 - val_accuracy: 0.9367\n",
      "Epoch 95/100\n",
      "1313/1313 [==============================] - 1s 651us/step - loss: 0.1847 - accuracy: 0.9443 - val_loss: 0.2100 - val_accuracy: 0.9360\n",
      "Epoch 96/100\n",
      "1313/1313 [==============================] - 1s 656us/step - loss: 0.1835 - accuracy: 0.9443 - val_loss: 0.2010 - val_accuracy: 0.9396\n",
      "Epoch 97/100\n",
      "1313/1313 [==============================] - 1s 669us/step - loss: 0.1815 - accuracy: 0.9444 - val_loss: 0.2253 - val_accuracy: 0.9313\n",
      "Epoch 98/100\n",
      "1313/1313 [==============================] - 1s 688us/step - loss: 0.1954 - accuracy: 0.9406 - val_loss: 0.2180 - val_accuracy: 0.9336\n",
      "Epoch 99/100\n",
      "1313/1313 [==============================] - 1s 693us/step - loss: 0.1845 - accuracy: 0.9429 - val_loss: 0.2135 - val_accuracy: 0.9346\n",
      "Epoch 100/100\n",
      "1313/1313 [==============================] - 1s 701us/step - loss: 0.1837 - accuracy: 0.9434 - val_loss: 0.2180 - val_accuracy: 0.9339\n"
     ]
    }
   ],
   "source": [
    "mnist_history = mnist_model.fit(X_train, y_train_one_hot, \n",
    "                validation_split=0.3, \n",
    "                epochs=100)"
   ]
  },
  {
   "cell_type": "code",
   "execution_count": 123,
   "id": "5c87680b",
   "metadata": {},
   "outputs": [
    {
     "data": {
      "image/png": "[encoded data removed]",
      "text/plain": [
       "<Figure size 1080x360 with 1 Axes>"
      ]
     },
     "metadata": {
      "needs_background": "light"
     },
     "output_type": "display_data"
    }
   ],
   "source": [
    "plt.figure(figsize=(15,5))\n",
    "plt.plot(mnist_history.history['loss'], label='loss')\n",
    "plt.plot(mnist_history.history['val_loss'], label='val_loss')\n",
    "plt.legend()\n",
    "plt.show()"
   ]
  },
  {
   "cell_type": "code",
   "execution_count": 120,
   "id": "d4efa7f1",
   "metadata": {},
   "outputs": [
    {
     "data": {
      "image/png": "[encoded data removed]",
      "text/plain": [
       "<Figure size 1080x360 with 1 Axes>"
      ]
     },
     "metadata": {
      "needs_background": "light"
     },
     "output_type": "display_data"
    }
   ],
   "source": [
    "plt.figure(figsize=(15,5))\n",
    "plt.plot(mnist_history.history['accuracy'], label='accuracy')\n",
    "plt.plot(mnist_history.history['val_accuracy'], label='val_accuracy')\n",
    "plt.legend()\n",
    "plt.show()"
   ]
  },
  {
   "cell_type": "code",
   "execution_count": 124,
   "id": "4dccb3bb",
   "metadata": {},
   "outputs": [
    {
     "name": "stdout",
     "output_type": "stream",
     "text": [
      "313/313 [==============================] - 0s 401us/step - loss: 0.2086 - accuracy: 0.9371\n"
     ]
    },
    {
     "data": {
      "text/plain": [
       "[0.20856279134750366, 0.9370999932289124]"
      ]
     },
     "execution_count": 124,
     "metadata": {},
     "output_type": "execute_result"
    }
   ],
   "source": [
    "# 4. 모델 평가\n",
    "mnist_model.evaluate(X_test, y_test_one_hot)\n",
    "# out:  loss, acc"
   ]
  },
  {
   "cell_type": "code",
   "execution_count": null,
   "id": "8e95621e",
   "metadata": {},
   "outputs": [],
   "source": []
  },
  {
   "cell_type": "code",
   "execution_count": null,
   "id": "ab987ca8",
   "metadata": {},
   "outputs": [],
   "source": []
  },
  {
   "cell_type": "code",
   "execution_count": null,
   "id": "a93d817a",
   "metadata": {},
   "outputs": [],
   "source": []
  },
  {
   "cell_type": "code",
   "execution_count": null,
   "id": "7788a5e1",
   "metadata": {},
   "outputs": [],
   "source": []
  },
  {
   "cell_type": "code",
   "execution_count": null,
   "id": "b0d2ab54",
   "metadata": {},
   "outputs": [],
   "source": []
  },
  {
   "cell_type": "code",
   "execution_count": null,
   "id": "1faf5a8c",
   "metadata": {},
   "outputs": [],
   "source": []
  },
  {
   "cell_type": "code",
   "execution_count": null,
   "id": "f320f0ee",
   "metadata": {},
   "outputs": [],
   "source": []
  },
  {
   "cell_type": "code",
   "execution_count": null,
   "id": "11b5bc8f",
   "metadata": {},
   "outputs": [],
   "source": []
  },
  {
   "cell_type": "code",
   "execution_count": null,
   "id": "066e56a3",
   "metadata": {},
   "outputs": [],
   "source": []
  }
 ],
 "metadata": {
  "kernelspec": {
   "display_name": "Python 3 (ipykernel)",
   "language": "python",
   "name": "python3"
  },
  "language_info": {
   "codemirror_mode": {
    "name": "ipython",
    "version": 3
   },
   "file_extension": ".py",
   "mimetype": "text/x-python",
   "name": "python",
   "nbconvert_exporter": "python",
   "pygments_lexer": "ipython3",
   "version": "3.7.1"
  }
 },
 "nbformat": 4,
 "nbformat_minor": 5
}
